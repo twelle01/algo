{
 "cells": [
  {
   "cell_type": "markdown",
   "metadata": {},
   "source": [
    "# Feature selection and feature engineering\n",
    "\n",
    "This isn't based on a news article, exactly, it's from a paper. You can see the paper in `/data/`."
   ]
  },
  {
   "cell_type": "code",
   "execution_count": 1,
   "metadata": {},
   "outputs": [],
   "source": [
    "import pandas as pd\n",
    "import numpy as np\n",
    "from sklearn.linear_model import LogisticRegression\n",
    "from sklearn.model_selection import train_test_split\n",
    "\n",
    "\n",
    "pd.set_option(\"display.max_columns\", 200)\n",
    "pd.set_option(\"display.max_colwidth\", 200)\n",
    "%matplotlib inline"
   ]
  },
  {
   "cell_type": "markdown",
   "metadata": {},
   "source": [
    "# Reading in our data\n",
    "\n",
    "## Every single person in a crash\n",
    "\n",
    "We'll start by reading in the list of people who were involved in an accident.\n",
    "\n",
    "**Call this dataframe `people`.**"
   ]
  },
  {
   "cell_type": "code",
   "execution_count": 2,
   "metadata": {},
   "outputs": [
    {
     "name": "stderr",
     "output_type": "stream",
     "text": [
      "C:\\Users\\Maximilian\\AppData\\Local\\Programs\\Python\\Python37-32\\lib\\site-packages\\IPython\\core\\interactiveshell.py:3049: DtypeWarning: Columns (5,15,26) have mixed types. Specify dtype option on import or set low_memory=False.\n",
      "  interactivity=interactivity, compiler=compiler, result=result)\n"
     ]
    }
   ],
   "source": [
    "people = pd.read_csv(\"data/combined-person-data.csv\")"
   ]
  },
  {
   "cell_type": "markdown",
   "metadata": {},
   "source": [
    "How often did each severity of injury show up? (e.g. not injured, non-incapacitating injury, etc)"
   ]
  },
  {
   "cell_type": "code",
   "execution_count": 3,
   "metadata": {},
   "outputs": [],
   "source": [
    "people['INJ_SEVER_CODE'] = people.INJ_SEVER_CODE.astype(str)"
   ]
  },
  {
   "cell_type": "code",
   "execution_count": 4,
   "metadata": {},
   "outputs": [],
   "source": [
    "people['INJ_SEVER_CODE'] = people.INJ_SEVER_CODE.str.replace(r\"1\",\"No Injury\")\n",
    "people['INJ_SEVER_CODE'] = people.INJ_SEVER_CODE.str.replace(r\"2\",\"Non-incapacitating Injury\")\n",
    "people['INJ_SEVER_CODE'] = people.INJ_SEVER_CODE.str.replace(r\"3\",\"Possible Incapacitating Injury\")\n",
    "people['INJ_SEVER_CODE'] = people.INJ_SEVER_CODE.str.replace(r\"4\",\"Incapacitating/Disabled Injury\")\n",
    "people['INJ_SEVER_CODE'] = people.INJ_SEVER_CODE.str.replace(r\"5\",\"Fatal Injury\")"
   ]
  },
  {
   "cell_type": "code",
   "execution_count": 5,
   "metadata": {},
   "outputs": [
    {
     "data": {
      "text/plain": [
       "No Injury                         716806\n",
       "Non-incapacitating Injury          82642\n",
       "Possible Incapacitating Injury     76801\n",
       "Incapacitating/Disabled Injury     10353\n",
       "Fatal Injury                        1681\n",
       "Name: INJ_SEVER_CODE, dtype: int64"
      ]
     },
     "execution_count": 5,
     "metadata": {},
     "output_type": "execute_result"
    }
   ],
   "source": [
    "people.INJ_SEVER_CODE.value_counts()"
   ]
  },
  {
   "cell_type": "markdown",
   "metadata": {},
   "source": [
    "We're only interested in fatalities, so let's create a new `had_fatality` column for when people received a fatal injury.\n",
    "\n",
    "**Confirm there were 1681 people with fatal injuries.**"
   ]
  },
  {
   "cell_type": "code",
   "execution_count": 6,
   "metadata": {},
   "outputs": [],
   "source": [
    "people['had_fatality'] = people['INJ_SEVER_CODE'].str.replace(r\"Fatal Injury\", \"1\")\n",
    "people['had_fatality'] = people.had_fatality.str.replace(r\"No Injury\", \"0\")\n",
    "people['had_fatality'] = people.had_fatality.str.replace(r\"Non-incapacitating Injury\", \"0\" )\n",
    "people['had_fatality'] = people.had_fatality.str.replace(r\"Possible Incapacitating Injury\", \"0\" )\n",
    "people['had_fatality'] = people.had_fatality.str.replace(r\"Incapacitating/Disabled Injury\", \"0\" )\n",
    "people['had_fatality'] = people.had_fatality.str.replace(r\"Fatal Injury\", \"0\")"
   ]
  },
  {
   "cell_type": "code",
   "execution_count": 7,
   "metadata": {},
   "outputs": [
    {
     "data": {
      "text/plain": [
       "0    886602\n",
       "1      1681\n",
       "Name: had_fatality, dtype: int64"
      ]
     },
     "execution_count": 7,
     "metadata": {},
     "output_type": "execute_result"
    }
   ],
   "source": [
    "people.had_fatality.value_counts()"
   ]
  },
  {
   "cell_type": "markdown",
   "metadata": {},
   "source": [
    "## Working on Features\n",
    "\n",
    "### Starting our analysis\n",
    "\n",
    "We're going to run a regression on the impact of being **male vs female on crash fatalities**. Prepare a dataframe called `train_df` with the appropriate information in it.\n",
    "\n",
    "* **Tip:** What column(s) are your input, and what is your output? Aka independent and dependent variables\n",
    "* **Tip:** You'll need to convert your input column into something numeric, I suggest using `.replace`\n",
    "* **Tip:** We aren't interested in the \"Unknown\" sex - either filtering or `np.nan` + `.dropna()` might be useful ways to get rid of those columns"
   ]
  },
  {
   "cell_type": "code",
   "execution_count": 13,
   "metadata": {},
   "outputs": [
    {
     "data": {
      "text/plain": [
       "0"
      ]
     },
     "execution_count": 13,
     "metadata": {},
     "output_type": "execute_result"
    }
   ],
   "source": [
    "people.SEX_CODE.isna().sum()"
   ]
  },
  {
   "cell_type": "code",
   "execution_count": 14,
   "metadata": {},
   "outputs": [
    {
     "data": {
      "text/plain": [
       "(815827, 29)"
      ]
     },
     "execution_count": 14,
     "metadata": {},
     "output_type": "execute_result"
    }
   ],
   "source": [
    "people.shape"
   ]
  },
  {
   "cell_type": "code",
   "execution_count": 15,
   "metadata": {},
   "outputs": [
    {
     "data": {
      "text/plain": [
       "M    460973\n",
       "F    354854\n",
       "Name: SEX_CODE, dtype: int64"
      ]
     },
     "execution_count": 15,
     "metadata": {},
     "output_type": "execute_result"
    }
   ],
   "source": [
    "people.SEX_CODE.value_counts()"
   ]
  },
  {
   "cell_type": "code",
   "execution_count": 11,
   "metadata": {},
   "outputs": [],
   "source": [
    "people = people.dropna(subset=['SEX_CODE'])"
   ]
  },
  {
   "cell_type": "code",
   "execution_count": 12,
   "metadata": {},
   "outputs": [],
   "source": [
    "people = people[people['SEX_CODE'] != 'U']"
   ]
  },
  {
   "cell_type": "code",
   "execution_count": 19,
   "metadata": {},
   "outputs": [
    {
     "data": {
      "text/html": [
       "<div>\n",
       "<style scoped>\n",
       "    .dataframe tbody tr th:only-of-type {\n",
       "        vertical-align: middle;\n",
       "    }\n",
       "\n",
       "    .dataframe tbody tr th {\n",
       "        vertical-align: top;\n",
       "    }\n",
       "\n",
       "    .dataframe thead th {\n",
       "        text-align: right;\n",
       "    }\n",
       "</style>\n",
       "<table border=\"1\" class=\"dataframe\">\n",
       "  <thead>\n",
       "    <tr style=\"text-align: right;\">\n",
       "      <th></th>\n",
       "      <th>AIRBAG_DEPLOYED</th>\n",
       "      <th>ALCOHOL_TESTTYPE_CODE</th>\n",
       "      <th>ALCOHOL_TEST_CODE</th>\n",
       "      <th>BAC_CODE</th>\n",
       "      <th>CDL_FLAG</th>\n",
       "      <th>CLASS</th>\n",
       "      <th>CONDITION_CODE</th>\n",
       "      <th>DATE_OF_BIRTH</th>\n",
       "      <th>DRUG_TESTRESULT_CODE</th>\n",
       "      <th>DRUG_TEST_CODE</th>\n",
       "      <th>EJECT_CODE</th>\n",
       "      <th>EMS_UNIT_LABEL</th>\n",
       "      <th>EQUIP_PROB_CODE</th>\n",
       "      <th>FAULT_FLAG</th>\n",
       "      <th>INJ_SEVER_CODE</th>\n",
       "      <th>LICENSE_STATE_CODE</th>\n",
       "      <th>MOVEMENT_CODE</th>\n",
       "      <th>OCC_SEAT_POS_CODE</th>\n",
       "      <th>PED_LOCATION_CODE</th>\n",
       "      <th>PED_OBEY_CODE</th>\n",
       "      <th>PED_TYPE_CODE</th>\n",
       "      <th>PED_VISIBLE_CODE</th>\n",
       "      <th>PERSON_ID</th>\n",
       "      <th>PERSON_TYPE</th>\n",
       "      <th>REPORT_NO</th>\n",
       "      <th>SAF_EQUIP_CODE</th>\n",
       "      <th>SEX_CODE</th>\n",
       "      <th>VEHICLE_ID</th>\n",
       "      <th>had_fatality</th>\n",
       "      <th>SEX_CODE2</th>\n",
       "    </tr>\n",
       "  </thead>\n",
       "  <tbody>\n",
       "    <tr>\n",
       "      <th>0</th>\n",
       "      <td>1.0</td>\n",
       "      <td>NaN</td>\n",
       "      <td>0.0</td>\n",
       "      <td>NaN</td>\n",
       "      <td>N</td>\n",
       "      <td>C</td>\n",
       "      <td>0.0</td>\n",
       "      <td>1952-04-20 00:00:00</td>\n",
       "      <td>NaN</td>\n",
       "      <td>0.0</td>\n",
       "      <td>1.0</td>\n",
       "      <td>NaN</td>\n",
       "      <td>1.0</td>\n",
       "      <td>N</td>\n",
       "      <td>No Injury</td>\n",
       "      <td>PA</td>\n",
       "      <td>NaN</td>\n",
       "      <td>NaN</td>\n",
       "      <td>NaN</td>\n",
       "      <td>NaN</td>\n",
       "      <td>NaN</td>\n",
       "      <td>NaN</td>\n",
       "      <td>48dd00ee-e033-47e7-ad1e-0b734020301b</td>\n",
       "      <td>D</td>\n",
       "      <td>AB4284000S</td>\n",
       "      <td>13.0</td>\n",
       "      <td>F</td>\n",
       "      <td>eb6aadb8-dacb-4744-a1a7-ab812c96f27f</td>\n",
       "      <td>0</td>\n",
       "      <td>F</td>\n",
       "    </tr>\n",
       "    <tr>\n",
       "      <th>1</th>\n",
       "      <td>1.0</td>\n",
       "      <td>NaN</td>\n",
       "      <td>0.0</td>\n",
       "      <td>NaN</td>\n",
       "      <td>N</td>\n",
       "      <td>NaN</td>\n",
       "      <td>0.0</td>\n",
       "      <td>1985-05-28 00:00:00</td>\n",
       "      <td>NaN</td>\n",
       "      <td>0.0</td>\n",
       "      <td>0.0</td>\n",
       "      <td>NaN</td>\n",
       "      <td>0.0</td>\n",
       "      <td>N</td>\n",
       "      <td>No Injury</td>\n",
       "      <td>MD</td>\n",
       "      <td>NaN</td>\n",
       "      <td>NaN</td>\n",
       "      <td>NaN</td>\n",
       "      <td>NaN</td>\n",
       "      <td>NaN</td>\n",
       "      <td>NaN</td>\n",
       "      <td>166296bd-ffd3-4c16-aa74-4f4bf4139d8d</td>\n",
       "      <td>D</td>\n",
       "      <td>AB4313000X</td>\n",
       "      <td>13.0</td>\n",
       "      <td>F</td>\n",
       "      <td>b463eb20-2f01-4200-9d6f-b18888ce2593</td>\n",
       "      <td>0</td>\n",
       "      <td>F</td>\n",
       "    </tr>\n",
       "  </tbody>\n",
       "</table>\n",
       "</div>"
      ],
      "text/plain": [
       "   AIRBAG_DEPLOYED  ALCOHOL_TESTTYPE_CODE  ALCOHOL_TEST_CODE  BAC_CODE  \\\n",
       "0              1.0                    NaN                0.0       NaN   \n",
       "1              1.0                    NaN                0.0       NaN   \n",
       "\n",
       "  CDL_FLAG CLASS  CONDITION_CODE        DATE_OF_BIRTH DRUG_TESTRESULT_CODE  \\\n",
       "0        N     C             0.0  1952-04-20 00:00:00                  NaN   \n",
       "1        N   NaN             0.0  1985-05-28 00:00:00                  NaN   \n",
       "\n",
       "   DRUG_TEST_CODE  EJECT_CODE EMS_UNIT_LABEL  EQUIP_PROB_CODE FAULT_FLAG  \\\n",
       "0             0.0         1.0            NaN              1.0          N   \n",
       "1             0.0         0.0            NaN              0.0          N   \n",
       "\n",
       "  INJ_SEVER_CODE LICENSE_STATE_CODE  MOVEMENT_CODE  OCC_SEAT_POS_CODE  \\\n",
       "0      No Injury                 PA            NaN                NaN   \n",
       "1      No Injury                 MD            NaN                NaN   \n",
       "\n",
       "   PED_LOCATION_CODE  PED_OBEY_CODE  PED_TYPE_CODE  PED_VISIBLE_CODE  \\\n",
       "0                NaN            NaN            NaN               NaN   \n",
       "1                NaN            NaN            NaN               NaN   \n",
       "\n",
       "                              PERSON_ID PERSON_TYPE   REPORT_NO  \\\n",
       "0  48dd00ee-e033-47e7-ad1e-0b734020301b           D  AB4284000S   \n",
       "1  166296bd-ffd3-4c16-aa74-4f4bf4139d8d           D  AB4313000X   \n",
       "\n",
       "   SAF_EQUIP_CODE SEX_CODE                            VEHICLE_ID had_fatality  \\\n",
       "0            13.0        F  eb6aadb8-dacb-4744-a1a7-ab812c96f27f            0   \n",
       "1            13.0        F  b463eb20-2f01-4200-9d6f-b18888ce2593            0   \n",
       "\n",
       "  SEX_CODE2  \n",
       "0         F  \n",
       "1         F  "
      ]
     },
     "execution_count": 19,
     "metadata": {},
     "output_type": "execute_result"
    }
   ],
   "source": [
    "people.head(2)"
   ]
  },
  {
   "cell_type": "code",
   "execution_count": 20,
   "metadata": {},
   "outputs": [],
   "source": [
    "people['SEX_CODE2'] = people['SEX_CODE'].str.replace(r\"F\",\"1\")\n",
    "people['SEX_CODE2'] = people['SEX_CODE'].str.replace(r\"M\",\"0\")\n",
    "people['SEX_CODE2'] = people['SEX_CODE2'].str.replace(r\"F\",\"1\")\n",
    "people['SEX_CODE2'] = people['SEX_CODE2'].str.replace(r\"M\",\"0\")"
   ]
  },
  {
   "cell_type": "code",
   "execution_count": 21,
   "metadata": {},
   "outputs": [],
   "source": [
    "train_df = people[['had_fatality','SEX_CODE2']]"
   ]
  },
  {
   "cell_type": "markdown",
   "metadata": {},
   "source": [
    "Confirm that your `train_df` has two columns and 815,827 rows.\n",
    "\n",
    "> **Tip:** If you have more rows, make sure you dropped all of the rows with Unknown sex.\n",
    ">\n",
    "> **Tip:** If you have more columns, make sure you only have your input and output columns."
   ]
  },
  {
   "cell_type": "markdown",
   "metadata": {},
   "source": [
    "### Run your regression\n",
    "\n",
    "See the effect of sex on whether the person's injuries are fatal or not. After we train the regression, we can use my ✨favorite technique✨ to display features and their odds ratios:\n",
    "    \n",
    "```python\n",
    "feature_names = X.columns\n",
    "coefficients = clf.coef_[0]\n",
    "\n",
    "pd.DataFrame({\n",
    "    'feature': feature_names,\n",
    "    'coefficient (log odds ratio)': coefficients,\n",
    "    'odds ratio': np.exp(coefficients).round(4)\n",
    "}).sort_values(by='odds ratio', ascending=False)\n",
    "```"
   ]
  },
  {
   "cell_type": "code",
   "execution_count": 22,
   "metadata": {},
   "outputs": [
    {
     "data": {
      "text/html": [
       "<div>\n",
       "<style scoped>\n",
       "    .dataframe tbody tr th:only-of-type {\n",
       "        vertical-align: middle;\n",
       "    }\n",
       "\n",
       "    .dataframe tbody tr th {\n",
       "        vertical-align: top;\n",
       "    }\n",
       "\n",
       "    .dataframe thead th {\n",
       "        text-align: right;\n",
       "    }\n",
       "</style>\n",
       "<table border=\"1\" class=\"dataframe\">\n",
       "  <thead>\n",
       "    <tr style=\"text-align: right;\">\n",
       "      <th></th>\n",
       "      <th>had_fatality</th>\n",
       "      <th>SEX_CODE2</th>\n",
       "    </tr>\n",
       "  </thead>\n",
       "  <tbody>\n",
       "    <tr>\n",
       "      <th>0</th>\n",
       "      <td>0</td>\n",
       "      <td>1</td>\n",
       "    </tr>\n",
       "    <tr>\n",
       "      <th>1</th>\n",
       "      <td>0</td>\n",
       "      <td>1</td>\n",
       "    </tr>\n",
       "    <tr>\n",
       "      <th>2</th>\n",
       "      <td>0</td>\n",
       "      <td>1</td>\n",
       "    </tr>\n",
       "    <tr>\n",
       "      <th>3</th>\n",
       "      <td>0</td>\n",
       "      <td>1</td>\n",
       "    </tr>\n",
       "    <tr>\n",
       "      <th>4</th>\n",
       "      <td>0</td>\n",
       "      <td>1</td>\n",
       "    </tr>\n",
       "  </tbody>\n",
       "</table>\n",
       "</div>"
      ],
      "text/plain": [
       "  had_fatality SEX_CODE2\n",
       "0            0         1\n",
       "1            0         1\n",
       "2            0         1\n",
       "3            0         1\n",
       "4            0         1"
      ]
     },
     "execution_count": 22,
     "metadata": {},
     "output_type": "execute_result"
    }
   ],
   "source": [
    "train_df.head()"
   ]
  },
  {
   "cell_type": "code",
   "execution_count": 23,
   "metadata": {},
   "outputs": [
    {
     "data": {
      "text/plain": [
       "LogisticRegression(C=1000000000.0, class_weight=None, dual=False,\n",
       "                   fit_intercept=True, intercept_scaling=1, l1_ratio=None,\n",
       "                   max_iter=100, multi_class='warn', n_jobs=None, penalty='l2',\n",
       "                   random_state=None, solver='lbfgs', tol=0.0001, verbose=0,\n",
       "                   warm_start=False)"
      ]
     },
     "execution_count": 23,
     "metadata": {},
     "output_type": "execute_result"
    }
   ],
   "source": [
    "X = train_df.drop(columns='had_fatality')\n",
    "y = train_df.had_fatality\n",
    "\n",
    "clf = LogisticRegression(C=1e9, solver='lbfgs')\n",
    "\n",
    "clf.fit(X, y)"
   ]
  },
  {
   "cell_type": "code",
   "execution_count": 24,
   "metadata": {},
   "outputs": [
    {
     "data": {
      "text/html": [
       "<div>\n",
       "<style scoped>\n",
       "    .dataframe tbody tr th:only-of-type {\n",
       "        vertical-align: middle;\n",
       "    }\n",
       "\n",
       "    .dataframe tbody tr th {\n",
       "        vertical-align: top;\n",
       "    }\n",
       "\n",
       "    .dataframe thead th {\n",
       "        text-align: right;\n",
       "    }\n",
       "</style>\n",
       "<table border=\"1\" class=\"dataframe\">\n",
       "  <thead>\n",
       "    <tr style=\"text-align: right;\">\n",
       "      <th></th>\n",
       "      <th>feature</th>\n",
       "      <th>coefficient</th>\n",
       "    </tr>\n",
       "  </thead>\n",
       "  <tbody>\n",
       "    <tr>\n",
       "      <th>0</th>\n",
       "      <td>SEX_CODE2</td>\n",
       "      <td>-0.71481</td>\n",
       "    </tr>\n",
       "  </tbody>\n",
       "</table>\n",
       "</div>"
      ],
      "text/plain": [
       "     feature  coefficient\n",
       "0  SEX_CODE2     -0.71481"
      ]
     },
     "execution_count": 24,
     "metadata": {},
     "output_type": "execute_result"
    }
   ],
   "source": [
    "feature_names = X.columns\n",
    "coefficients = clf.coef_[0]\n",
    "\n",
    "pd.DataFrame({\n",
    "    'feature': feature_names,\n",
    "    'coefficient': coefficients\n",
    "}).sort_values(by='coefficient', ascending=False)"
   ]
  },
  {
   "cell_type": "code",
   "execution_count": 30,
   "metadata": {},
   "outputs": [],
   "source": [
    "people.to_csv('people_2.csv')"
   ]
  },
  {
   "cell_type": "code",
   "execution_count": 31,
   "metadata": {},
   "outputs": [],
   "source": [
    "people_2 = pd.read_csv(\"people_2.csv\")"
   ]
  },
  {
   "cell_type": "markdown",
   "metadata": {},
   "source": [
    "### Use words to interpret this result"
   ]
  },
  {
   "cell_type": "code",
   "execution_count": null,
   "metadata": {},
   "outputs": [],
   "source": [
    "# sex has not really a big impact on whether an accident was fatal or not "
   ]
  },
  {
   "cell_type": "markdown",
   "metadata": {},
   "source": [
    "## Adding more features\n",
    "\n",
    "The actual crash data has more details - whether it was snowy/icy, whether it was a highway, etc. \n",
    "\n",
    "Read in `combined-crash-data.csv`, calling it **`crashes`**, and merge it with our people dataset. I'll save you a lookup: the `REPORT_NO` is what matches between the two."
   ]
  },
  {
   "cell_type": "code",
   "execution_count": 3,
   "metadata": {},
   "outputs": [
    {
     "name": "stderr",
     "output_type": "stream",
     "text": [
      "C:\\Users\\Maximilian\\AppData\\Local\\Programs\\Python\\Python37-32\\lib\\site-packages\\IPython\\core\\interactiveshell.py:3049: DtypeWarning: Columns (27,30,33) have mixed types. Specify dtype option on import or set low_memory=False.\n",
      "  interactivity=interactivity, compiler=compiler, result=result)\n"
     ]
    }
   ],
   "source": [
    "crashes = pd.read_csv(\"data/combined-crash-data.csv\")"
   ]
  },
  {
   "cell_type": "code",
   "execution_count": 16,
   "metadata": {},
   "outputs": [
    {
     "data": {
      "text/plain": [
       "(396419, 37)"
      ]
     },
     "execution_count": 16,
     "metadata": {},
     "output_type": "execute_result"
    }
   ],
   "source": [
    "crashes.shape"
   ]
  },
  {
   "cell_type": "code",
   "execution_count": 8,
   "metadata": {},
   "outputs": [],
   "source": [
    "people_2 = people_2[['had_fatality','SEX_CODE2', 'REPORT_NO']]"
   ]
  },
  {
   "cell_type": "code",
   "execution_count": 15,
   "metadata": {},
   "outputs": [
    {
     "data": {
      "text/plain": [
       "(815827, 3)"
      ]
     },
     "execution_count": 15,
     "metadata": {},
     "output_type": "execute_result"
    }
   ],
   "source": [
    "people_2.shape"
   ]
  },
  {
   "cell_type": "code",
   "execution_count": 4,
   "metadata": {},
   "outputs": [],
   "source": [
    "merged_df = people_2.merge(crashes, how='left', left_on=\"REPORT_NO\", right_on=\"REPORT_NO\")"
   ]
  },
  {
   "cell_type": "code",
   "execution_count": 3,
   "metadata": {},
   "outputs": [],
   "source": [
    "# merged_df.to_csv('merged_df.csv')"
   ]
  },
  {
   "cell_type": "code",
   "execution_count": 2,
   "metadata": {},
   "outputs": [
    {
     "name": "stderr",
     "output_type": "stream",
     "text": [
      "C:\\Users\\Maximilian\\AppData\\Local\\Programs\\Python\\Python37-32\\lib\\site-packages\\IPython\\core\\interactiveshell.py:3049: DtypeWarning: Columns (6,10,61) have mixed types. Specify dtype option on import or set low_memory=False.\n",
      "  interactivity=interactivity, compiler=compiler, result=result)\n"
     ]
    }
   ],
   "source": [
    "merged_df = pd.read_csv(\"merged_df.csv\")"
   ]
  },
  {
   "cell_type": "markdown",
   "metadata": {},
   "source": [
    "### Examining more possible features\n",
    "\n",
    "How often was it wet, dry, snowy, icy, etc? **What was the most common surfce condition?**\n",
    "\n",
    "* **Tip:** We're interested in surface condition, _not_ road condition, _not_ weather condition"
   ]
  },
  {
   "cell_type": "code",
   "execution_count": 5,
   "metadata": {},
   "outputs": [
    {
     "data": {
      "text/plain": [
       "2.00     577638\n",
       "1.00     139282\n",
       "0.00      27235\n",
       "4.00       8706\n",
       "3.00       8697\n",
       "6.03       1597\n",
       "99.00      1338\n",
       "88.00      1019\n",
       "5.00        425\n",
       "7.01        252\n",
       "9.88        136\n",
       "8.05         36\n",
       "Name: SURF_COND_CODE2, dtype: int64"
      ]
     },
     "execution_count": 5,
     "metadata": {},
     "output_type": "execute_result"
    }
   ],
   "source": [
    "merged_df['SURF_COND_CODE2'].value_counts()"
   ]
  },
  {
   "cell_type": "code",
   "execution_count": 17,
   "metadata": {},
   "outputs": [],
   "source": [
    "merged_df['SURF_COND_CODE2'] = merged_df.SURF_COND_CODE"
   ]
  },
  {
   "cell_type": "code",
   "execution_count": 7,
   "metadata": {},
   "outputs": [
    {
     "data": {
      "text/plain": [
       "dtype('O')"
      ]
     },
     "execution_count": 7,
     "metadata": {},
     "output_type": "execute_result"
    }
   ],
   "source": [
    "merged_df.SURF_COND_CODE2.dtype"
   ]
  },
  {
   "cell_type": "code",
   "execution_count": 12,
   "metadata": {},
   "outputs": [],
   "source": [
    "# merged_df['SURF_COND_CODE2'] = merged_df['SURF_COND_CODE2'].str.replace(r\"2.00\",\"Dry\")\n",
    "# merged_df['SURF_COND_CODE2'] = merged_df['SURF_COND_CODE2'].str.replace(r\"1.00\",\"Wet\")\n",
    "# merged_df['SURF_COND_CODE2'] = merged_df['SURF_COND_CODE2'].str.replace(r\"0.00\",\"Not Applicable\")\n",
    "# merged_df['SURF_COND_CODE2'] = merged_df['SURF_COND_CODE2'].str.replace(r\"4.00\",\"Ice\")\n",
    "# merged_df['SURF_COND_CODE2'] = merged_df['SURF_COND_CODE2'].str.replace(r\"3.00\",\"Snow\")\n",
    "merged_df['SURF_COND_CODE2'] = merged_df['SURF_COND_CODE2'].str.replace(r\"Slush\",\"Other\")\n",
    "# merged_df['SURF_COND_CODE2'] = merged_df['SURF_COND_CODE2'].str.replace(r\"99.00\",\"Unknown\")\n",
    "# merged_df['SURF_COND_CODE2'] = merged_df['SURF_COND_CODE2'].str.replace(r\"88.00\",\"Other\")\n",
    "# merged_df['SURF_COND_CODE2'] = merged_df['SURF_COND_CODE2'].str.replace(r\"5.00\",\"Mud\")\n",
    "merged_df['SURF_COND_CODE2'] = merged_df['SURF_COND_CODE2'].str.replace(r\"Water\",\"Other\")\n",
    "merged_df['SURF_COND_CODE2'] = merged_df['SURF_COND_CODE2'].str.replace(r\"Oil\",\"Other\")\n",
    "merged_df['SURF_COND_CODE2'] = merged_df['SURF_COND_CODE2'].str.replace(r\"Sand\",\"Other\")"
   ]
  },
  {
   "cell_type": "code",
   "execution_count": 19,
   "metadata": {},
   "outputs": [],
   "source": [
    "merged_df['SURF_COND_CODE2'] = merged_df['SURF_COND_CODE2'].replace({\n",
    "    0 : 'Not Applicable',\n",
    "    1 : 'Wet',\n",
    "    2 : 'Dry',\n",
    "    3 : 'Snow',\n",
    "    4 : 'Ice',\n",
    "    5 : 'Mud, Dirt, Gravel',\n",
    "    6.03 : 'Other',\n",
    "    7.01 : 'Other',\n",
    "    8.05 : 'Other',\n",
    "    9.88 : 'Other',\n",
    "    88 : 'Other',\n",
    "    99 : 'Unknown'})"
   ]
  },
  {
   "cell_type": "code",
   "execution_count": 20,
   "metadata": {},
   "outputs": [
    {
     "data": {
      "text/plain": [
       "Dry                  577638\n",
       "Wet                  139282\n",
       "Not Applicable        27235\n",
       "Ice                    8706\n",
       "Snow                   8697\n",
       "Other                  3040\n",
       "Unknown                1338\n",
       "Mud, Dirt, Gravel       425\n",
       "Name: SURF_COND_CODE2, dtype: int64"
      ]
     },
     "execution_count": 20,
     "metadata": {},
     "output_type": "execute_result"
    }
   ],
   "source": [
    "merged_df['SURF_COND_CODE2'].value_counts()"
   ]
  },
  {
   "cell_type": "markdown",
   "metadata": {},
   "source": [
    "Do you feel that a **Dry** road condition should be the average of **Wet** and **Snow?**"
   ]
  },
  {
   "cell_type": "code",
   "execution_count": null,
   "metadata": {},
   "outputs": [],
   "source": [
    "#no"
   ]
  },
  {
   "cell_type": "markdown",
   "metadata": {},
   "source": [
    "The answer to that should be *no*, which means we can't use this data as numeric data. We want a different coefficient for each of these - I want to know the impact of dry, the impact of wet, the impact of snow, all separately.\n",
    "\n",
    "Start by **replacing each code with a proper description.** I'll even include them here:\n",
    "\n",
    "* `00` - Not Applicable\n",
    "* `01`\t- Wet\n",
    "* `02`\t- Dry\n",
    "* `03`\t- Snow\n",
    "* `04`\t- Ice\n",
    "* `05`\t- Mud, Dirt, Gravel\n",
    "* `06`\t- Slush\n",
    "* `07`\t- Water (standing/moving)\n",
    "* `08`\t- Sand\n",
    "* `09`\t- Oil\n",
    "* `88`\t- Other\n",
    "* `99`\t- Unknown\n",
    "\n",
    "But watch out, pandas read the column in as numbers so they might have come through a little differently than their codes."
   ]
  },
  {
   "cell_type": "code",
   "execution_count": null,
   "metadata": {},
   "outputs": [],
   "source": []
  },
  {
   "cell_type": "markdown",
   "metadata": {},
   "source": [
    "Confirm you have 147,803 wet, and a few codes you can't understand, like `6.03` and `7.01`."
   ]
  },
  {
   "cell_type": "code",
   "execution_count": null,
   "metadata": {},
   "outputs": [],
   "source": []
  },
  {
   "cell_type": "markdown",
   "metadata": {},
   "source": [
    "Replace the codes you don't understand with `Other`."
   ]
  },
  {
   "cell_type": "code",
   "execution_count": null,
   "metadata": {},
   "outputs": [],
   "source": []
  },
  {
   "cell_type": "markdown",
   "metadata": {},
   "source": [
    "Confirm you have 3,196 'Other'."
   ]
  },
  {
   "cell_type": "code",
   "execution_count": null,
   "metadata": {},
   "outputs": [],
   "source": [
    "# i dont but i think i am not wrong... hmm.."
   ]
  },
  {
   "cell_type": "markdown",
   "metadata": {},
   "source": [
    "## One-hot encoding\n",
    "\n",
    "We're going to use `pd.get_dummies` to build a variable you'll call `surf_dummies`. Each surface condition should be a `0` or `1` as to whether it was that condition (dry, icy, wet, etc).\n",
    "\n",
    "Use a `prefix=` so we know they are **surface** conditions.\n",
    "\n",
    "You'll want to drop the column you'll use as the reference category.\n",
    "\n",
    "**Before we do this: which column works best as the reference?**"
   ]
  },
  {
   "cell_type": "code",
   "execution_count": null,
   "metadata": {},
   "outputs": [],
   "source": []
  },
  {
   "cell_type": "markdown",
   "metadata": {},
   "source": [
    "Now build your `surf_dummies` variable."
   ]
  },
  {
   "cell_type": "code",
   "execution_count": 22,
   "metadata": {},
   "outputs": [],
   "source": [
    "surf_dummies = pd.get_dummies(merged_df['SURF_COND_CODE2'], prefix='surface').drop('surface_Dry', axis=1)"
   ]
  },
  {
   "cell_type": "code",
   "execution_count": 23,
   "metadata": {},
   "outputs": [
    {
     "data": {
      "text/html": [
       "<div>\n",
       "<style scoped>\n",
       "    .dataframe tbody tr th:only-of-type {\n",
       "        vertical-align: middle;\n",
       "    }\n",
       "\n",
       "    .dataframe tbody tr th {\n",
       "        vertical-align: top;\n",
       "    }\n",
       "\n",
       "    .dataframe thead th {\n",
       "        text-align: right;\n",
       "    }\n",
       "</style>\n",
       "<table border=\"1\" class=\"dataframe\">\n",
       "  <thead>\n",
       "    <tr style=\"text-align: right;\">\n",
       "      <th></th>\n",
       "      <th>surface_Ice</th>\n",
       "      <th>surface_Mud, Dirt, Gravel</th>\n",
       "      <th>surface_Not Applicable</th>\n",
       "      <th>surface_Other</th>\n",
       "      <th>surface_Snow</th>\n",
       "      <th>surface_Unknown</th>\n",
       "      <th>surface_Wet</th>\n",
       "    </tr>\n",
       "  </thead>\n",
       "  <tbody>\n",
       "    <tr>\n",
       "      <th>0</th>\n",
       "      <td>0</td>\n",
       "      <td>0</td>\n",
       "      <td>0</td>\n",
       "      <td>0</td>\n",
       "      <td>0</td>\n",
       "      <td>0</td>\n",
       "      <td>0</td>\n",
       "    </tr>\n",
       "    <tr>\n",
       "      <th>1</th>\n",
       "      <td>0</td>\n",
       "      <td>0</td>\n",
       "      <td>1</td>\n",
       "      <td>0</td>\n",
       "      <td>0</td>\n",
       "      <td>0</td>\n",
       "      <td>0</td>\n",
       "    </tr>\n",
       "    <tr>\n",
       "      <th>2</th>\n",
       "      <td>0</td>\n",
       "      <td>0</td>\n",
       "      <td>1</td>\n",
       "      <td>0</td>\n",
       "      <td>0</td>\n",
       "      <td>0</td>\n",
       "      <td>0</td>\n",
       "    </tr>\n",
       "    <tr>\n",
       "      <th>3</th>\n",
       "      <td>0</td>\n",
       "      <td>0</td>\n",
       "      <td>0</td>\n",
       "      <td>0</td>\n",
       "      <td>0</td>\n",
       "      <td>0</td>\n",
       "      <td>1</td>\n",
       "    </tr>\n",
       "    <tr>\n",
       "      <th>4</th>\n",
       "      <td>0</td>\n",
       "      <td>0</td>\n",
       "      <td>0</td>\n",
       "      <td>0</td>\n",
       "      <td>0</td>\n",
       "      <td>0</td>\n",
       "      <td>0</td>\n",
       "    </tr>\n",
       "  </tbody>\n",
       "</table>\n",
       "</div>"
      ],
      "text/plain": [
       "   surface_Ice  surface_Mud, Dirt, Gravel  surface_Not Applicable  \\\n",
       "0            0                          0                       0   \n",
       "1            0                          0                       1   \n",
       "2            0                          0                       1   \n",
       "3            0                          0                       0   \n",
       "4            0                          0                       0   \n",
       "\n",
       "   surface_Other  surface_Snow  surface_Unknown  surface_Wet  \n",
       "0              0             0                0            0  \n",
       "1              0             0                0            0  \n",
       "2              0             0                0            0  \n",
       "3              0             0                0            1  \n",
       "4              0             0                0            0  "
      ]
     },
     "execution_count": 23,
     "metadata": {},
     "output_type": "execute_result"
    }
   ],
   "source": [
    "surf_dummies.head()"
   ]
  },
  {
   "cell_type": "code",
   "execution_count": 24,
   "metadata": {},
   "outputs": [],
   "source": []
  },
  {
   "cell_type": "code",
   "execution_count": null,
   "metadata": {},
   "outputs": [],
   "source": []
  },
  {
   "cell_type": "code",
   "execution_count": null,
   "metadata": {},
   "outputs": [],
   "source": []
  },
  {
   "cell_type": "markdown",
   "metadata": {},
   "source": [
    "Confirm your `surf_dummies` looks roughly like this:\n",
    "\n",
    "|surface_Ice|Surce_Mud, Dirt, Gravel|surface_Not Applicable|...|surface_Wet|\n",
    "|---|---|---|---|---|\n",
    "|0|0|0|...|0|\n",
    "|0|0|0|...|0|\n",
    "|0|0|1|...|0|\n",
    "|0|0|1|...|0|\n",
    "|0|0|0|...|1|"
   ]
  },
  {
   "cell_type": "markdown",
   "metadata": {},
   "source": [
    "## Another regression\n",
    "\n",
    "Let's run another regression to see the impact of both **sex and surface condition** on fatalities.\n",
    "\n",
    "### Build your `train_df`\n",
    "\n",
    "To build your `train_df`, I recommend doing it either of these two ways. They both first select the important columns, then add in the one-hot encoded `surf_dummies` columns.\n",
    "\n",
    "```python\n",
    "train_df = pd.DataFrame({\n",
    "    'col1': merged.col1,\n",
    "    'col2': merged.col2,\n",
    "    'col3': merged.col3,\n",
    "})\n",
    "train_df = train_df.join(surf_dummies)\n",
    "train_df = train_df.dropna()\n",
    "train_df.head()\n",
    "```\n",
    "\n",
    "or like this:\n",
    "\n",
    "```python\n",
    "train_df = train_df[['col1','col2','col3']].copy()\n",
    "train_df = train_df.join(surf_dummies)\n",
    "train_df = train_df.dropna()\n",
    "train_df.head()\n",
    "```\n",
    "\n",
    "The second one is shorter, but the first one makes it easier to use comments to remove columns later.\n"
   ]
  },
  {
   "cell_type": "code",
   "execution_count": 28,
   "metadata": {},
   "outputs": [
    {
     "data": {
      "text/html": [
       "<div>\n",
       "<style scoped>\n",
       "    .dataframe tbody tr th:only-of-type {\n",
       "        vertical-align: middle;\n",
       "    }\n",
       "\n",
       "    .dataframe tbody tr th {\n",
       "        vertical-align: top;\n",
       "    }\n",
       "\n",
       "    .dataframe thead th {\n",
       "        text-align: right;\n",
       "    }\n",
       "</style>\n",
       "<table border=\"1\" class=\"dataframe\">\n",
       "  <thead>\n",
       "    <tr style=\"text-align: right;\">\n",
       "      <th></th>\n",
       "      <th>SEX_CODE2</th>\n",
       "      <th>had_fatality</th>\n",
       "      <th>surface_Ice</th>\n",
       "      <th>surface_Mud, Dirt, Gravel</th>\n",
       "      <th>surface_Not Applicable</th>\n",
       "      <th>surface_Other</th>\n",
       "      <th>surface_Snow</th>\n",
       "      <th>surface_Unknown</th>\n",
       "      <th>surface_Wet</th>\n",
       "    </tr>\n",
       "  </thead>\n",
       "  <tbody>\n",
       "    <tr>\n",
       "      <th>0</th>\n",
       "      <td>1</td>\n",
       "      <td>0</td>\n",
       "      <td>0</td>\n",
       "      <td>0</td>\n",
       "      <td>0</td>\n",
       "      <td>0</td>\n",
       "      <td>0</td>\n",
       "      <td>0</td>\n",
       "      <td>0</td>\n",
       "    </tr>\n",
       "    <tr>\n",
       "      <th>1</th>\n",
       "      <td>1</td>\n",
       "      <td>0</td>\n",
       "      <td>0</td>\n",
       "      <td>0</td>\n",
       "      <td>1</td>\n",
       "      <td>0</td>\n",
       "      <td>0</td>\n",
       "      <td>0</td>\n",
       "      <td>0</td>\n",
       "    </tr>\n",
       "    <tr>\n",
       "      <th>2</th>\n",
       "      <td>1</td>\n",
       "      <td>0</td>\n",
       "      <td>0</td>\n",
       "      <td>0</td>\n",
       "      <td>1</td>\n",
       "      <td>0</td>\n",
       "      <td>0</td>\n",
       "      <td>0</td>\n",
       "      <td>0</td>\n",
       "    </tr>\n",
       "    <tr>\n",
       "      <th>3</th>\n",
       "      <td>1</td>\n",
       "      <td>0</td>\n",
       "      <td>0</td>\n",
       "      <td>0</td>\n",
       "      <td>0</td>\n",
       "      <td>0</td>\n",
       "      <td>0</td>\n",
       "      <td>0</td>\n",
       "      <td>1</td>\n",
       "    </tr>\n",
       "    <tr>\n",
       "      <th>4</th>\n",
       "      <td>1</td>\n",
       "      <td>0</td>\n",
       "      <td>0</td>\n",
       "      <td>0</td>\n",
       "      <td>0</td>\n",
       "      <td>0</td>\n",
       "      <td>0</td>\n",
       "      <td>0</td>\n",
       "      <td>0</td>\n",
       "    </tr>\n",
       "  </tbody>\n",
       "</table>\n",
       "</div>"
      ],
      "text/plain": [
       "   SEX_CODE2  had_fatality  surface_Ice  surface_Mud, Dirt, Gravel  \\\n",
       "0          1             0            0                          0   \n",
       "1          1             0            0                          0   \n",
       "2          1             0            0                          0   \n",
       "3          1             0            0                          0   \n",
       "4          1             0            0                          0   \n",
       "\n",
       "   surface_Not Applicable  surface_Other  surface_Snow  surface_Unknown  \\\n",
       "0                       0              0             0                0   \n",
       "1                       1              0             0                0   \n",
       "2                       1              0             0                0   \n",
       "3                       0              0             0                0   \n",
       "4                       0              0             0                0   \n",
       "\n",
       "   surface_Wet  \n",
       "0            0  \n",
       "1            0  \n",
       "2            0  \n",
       "3            1  \n",
       "4            0  "
      ]
     },
     "execution_count": 28,
     "metadata": {},
     "output_type": "execute_result"
    }
   ],
   "source": [
    "train_df = merged_df[['SEX_CODE2','had_fatality']].copy()\n",
    "train_df = train_df.join(surf_dummies)\n",
    "train_df = train_df.dropna()\n",
    "train_df.head()"
   ]
  },
  {
   "cell_type": "markdown",
   "metadata": {},
   "source": [
    "### Run your regression and check your odds ratios\n",
    "\n",
    "Actually no, wait, first - what kind of surface do you think will have the **highest fatality rate?**"
   ]
  },
  {
   "cell_type": "code",
   "execution_count": 31,
   "metadata": {},
   "outputs": [
    {
     "name": "stdout",
     "output_type": "stream",
     "text": [
      "<class 'pandas.core.frame.DataFrame'>\n",
      "Int64Index: 815876 entries, 0 to 815875\n",
      "Data columns (total 9 columns):\n",
      "SEX_CODE2                    815876 non-null int64\n",
      "had_fatality                 815876 non-null int64\n",
      "surface_Ice                  815876 non-null uint8\n",
      "surface_Mud, Dirt, Gravel    815876 non-null uint8\n",
      "surface_Not Applicable       815876 non-null uint8\n",
      "surface_Other                815876 non-null uint8\n",
      "surface_Snow                 815876 non-null uint8\n",
      "surface_Unknown              815876 non-null uint8\n",
      "surface_Wet                  815876 non-null uint8\n",
      "dtypes: int64(2), uint8(7)\n",
      "memory usage: 24.1 MB\n"
     ]
    }
   ],
   "source": [
    "train_df.info()"
   ]
  },
  {
   "cell_type": "code",
   "execution_count": null,
   "metadata": {},
   "outputs": [],
   "source": []
  },
  {
   "cell_type": "markdown",
   "metadata": {},
   "source": [
    "Confirm your `train_df` has 815,843 rows and 9 columns.\n",
    "\n",
    "* **Tip:** When you run your regression, if you get an error about not knowing what to do with `U`, it's because you didn't convert your sex to numbers (or if you did, you didn't do it in your original dataframe)"
   ]
  },
  {
   "cell_type": "code",
   "execution_count": 32,
   "metadata": {},
   "outputs": [
    {
     "data": {
      "text/plain": [
       "LogisticRegression(C=1000000000.0, class_weight=None, dual=False,\n",
       "                   fit_intercept=True, intercept_scaling=1, l1_ratio=None,\n",
       "                   max_iter=100, multi_class='warn', n_jobs=None, penalty='l2',\n",
       "                   random_state=None, solver='lbfgs', tol=0.0001, verbose=0,\n",
       "                   warm_start=False)"
      ]
     },
     "execution_count": 32,
     "metadata": {},
     "output_type": "execute_result"
    }
   ],
   "source": [
    "X = train_df.drop(columns='had_fatality')\n",
    "y = train_df.had_fatality \n",
    "clf = LogisticRegression(C=1e9, solver='lbfgs')\n",
    "clf.fit(X, y)"
   ]
  },
  {
   "cell_type": "code",
   "execution_count": 33,
   "metadata": {},
   "outputs": [
    {
     "data": {
      "text/html": [
       "<div>\n",
       "<style scoped>\n",
       "    .dataframe tbody tr th:only-of-type {\n",
       "        vertical-align: middle;\n",
       "    }\n",
       "\n",
       "    .dataframe tbody tr th {\n",
       "        vertical-align: top;\n",
       "    }\n",
       "\n",
       "    .dataframe thead th {\n",
       "        text-align: right;\n",
       "    }\n",
       "</style>\n",
       "<table border=\"1\" class=\"dataframe\">\n",
       "  <thead>\n",
       "    <tr style=\"text-align: right;\">\n",
       "      <th></th>\n",
       "      <th>feature</th>\n",
       "      <th>coefficient (log odds ratio)</th>\n",
       "      <th>odds ratio</th>\n",
       "    </tr>\n",
       "  </thead>\n",
       "  <tbody>\n",
       "    <tr>\n",
       "      <th>2</th>\n",
       "      <td>surface_Mud, Dirt, Gravel</td>\n",
       "      <td>1.119003</td>\n",
       "      <td>3.0618</td>\n",
       "    </tr>\n",
       "    <tr>\n",
       "      <th>4</th>\n",
       "      <td>surface_Other</td>\n",
       "      <td>0.596102</td>\n",
       "      <td>1.8150</td>\n",
       "    </tr>\n",
       "    <tr>\n",
       "      <th>6</th>\n",
       "      <td>surface_Unknown</td>\n",
       "      <td>0.340243</td>\n",
       "      <td>1.4053</td>\n",
       "    </tr>\n",
       "    <tr>\n",
       "      <th>7</th>\n",
       "      <td>surface_Wet</td>\n",
       "      <td>-0.099399</td>\n",
       "      <td>0.9054</td>\n",
       "    </tr>\n",
       "    <tr>\n",
       "      <th>1</th>\n",
       "      <td>surface_Ice</td>\n",
       "      <td>-0.558277</td>\n",
       "      <td>0.5722</td>\n",
       "    </tr>\n",
       "    <tr>\n",
       "      <th>5</th>\n",
       "      <td>surface_Snow</td>\n",
       "      <td>-0.653307</td>\n",
       "      <td>0.5203</td>\n",
       "    </tr>\n",
       "    <tr>\n",
       "      <th>0</th>\n",
       "      <td>SEX_CODE2</td>\n",
       "      <td>-0.716086</td>\n",
       "      <td>0.4887</td>\n",
       "    </tr>\n",
       "    <tr>\n",
       "      <th>3</th>\n",
       "      <td>surface_Not Applicable</td>\n",
       "      <td>-0.731252</td>\n",
       "      <td>0.4813</td>\n",
       "    </tr>\n",
       "  </tbody>\n",
       "</table>\n",
       "</div>"
      ],
      "text/plain": [
       "                     feature  coefficient (log odds ratio)  odds ratio\n",
       "2  surface_Mud, Dirt, Gravel                      1.119003      3.0618\n",
       "4              surface_Other                      0.596102      1.8150\n",
       "6            surface_Unknown                      0.340243      1.4053\n",
       "7                surface_Wet                     -0.099399      0.9054\n",
       "1                surface_Ice                     -0.558277      0.5722\n",
       "5               surface_Snow                     -0.653307      0.5203\n",
       "0                  SEX_CODE2                     -0.716086      0.4887\n",
       "3     surface_Not Applicable                     -0.731252      0.4813"
      ]
     },
     "execution_count": 33,
     "metadata": {},
     "output_type": "execute_result"
    }
   ],
   "source": [
    "feature_names = X.columns\n",
    "coefficients = clf.coef_[0]\n",
    "\n",
    "pd.DataFrame({\n",
    "    'feature': feature_names,\n",
    "    'coefficient (log odds ratio)': coefficients,\n",
    "    'odds ratio': np.exp(coefficients).round(4)\n",
    "}).sort_values(by='odds ratio', ascending=False)"
   ]
  },
  {
   "cell_type": "markdown",
   "metadata": {},
   "source": [
    "**Is this what you expected?** Why do you think this result might be the case?"
   ]
  },
  {
   "cell_type": "code",
   "execution_count": null,
   "metadata": {},
   "outputs": [],
   "source": [
    "#no"
   ]
  },
  {
   "cell_type": "markdown",
   "metadata": {},
   "source": [
    "# More features: Vehicles\n",
    "\n",
    "Maybe the car they're in is related to the car they were in. Luckily, we have this information - **read in `combined_vehicle_data` as `vehicles`.**"
   ]
  },
  {
   "cell_type": "code",
   "execution_count": 3,
   "metadata": {
    "scrolled": true
   },
   "outputs": [],
   "source": [
    "vehicles = pd.read_csv(\"data/combined-vehicle-data.csv\")"
   ]
  },
  {
   "cell_type": "code",
   "execution_count": 7,
   "metadata": {},
   "outputs": [
    {
     "data": {
      "text/plain": [
       "(742133, 35)"
      ]
     },
     "execution_count": 7,
     "metadata": {},
     "output_type": "execute_result"
    }
   ],
   "source": [
    "vehicles.shape"
   ]
  },
  {
   "cell_type": "markdown",
   "metadata": {},
   "source": [
    "## Weights of those cars\n",
    "\n",
    "The car weights are stored in **another file** since the info had to come from an API. I looked up the VINs - vehicle identification numbers - in a government database to try to get data for each of them.\n",
    "\n",
    "**Read them and build a new dataframe that is both the vehicle data along with their weights.** You can call it `vehicles` since you don't need the original weightless vehicle data any more."
   ]
  },
  {
   "cell_type": "code",
   "execution_count": 4,
   "metadata": {},
   "outputs": [],
   "source": [
    "vaw = pd.read_csv(\"data/vins_and_weights.csv\")"
   ]
  },
  {
   "cell_type": "code",
   "execution_count": 5,
   "metadata": {},
   "outputs": [
    {
     "data": {
      "text/html": [
       "<div>\n",
       "<style scoped>\n",
       "    .dataframe tbody tr th:only-of-type {\n",
       "        vertical-align: middle;\n",
       "    }\n",
       "\n",
       "    .dataframe tbody tr th {\n",
       "        vertical-align: top;\n",
       "    }\n",
       "\n",
       "    .dataframe thead th {\n",
       "        text-align: right;\n",
       "    }\n",
       "</style>\n",
       "<table border=\"1\" class=\"dataframe\">\n",
       "  <thead>\n",
       "    <tr style=\"text-align: right;\">\n",
       "      <th></th>\n",
       "      <th>VIN</th>\n",
       "      <th>Make</th>\n",
       "      <th>Model</th>\n",
       "      <th>ModelYear</th>\n",
       "      <th>weight</th>\n",
       "    </tr>\n",
       "  </thead>\n",
       "  <tbody>\n",
       "    <tr>\n",
       "      <th>0</th>\n",
       "      <td>2FMDA5143TBB45576</td>\n",
       "      <td>FORD</td>\n",
       "      <td>WINDSTAR</td>\n",
       "      <td>1996</td>\n",
       "      <td>3733.0</td>\n",
       "    </tr>\n",
       "    <tr>\n",
       "      <th>1</th>\n",
       "      <td>2G1WC5E37E1120089</td>\n",
       "      <td>CHEVROLET</td>\n",
       "      <td>IMPALA</td>\n",
       "      <td>2014</td>\n",
       "      <td>3618.0</td>\n",
       "    </tr>\n",
       "    <tr>\n",
       "      <th>2</th>\n",
       "      <td>5J6RE4H55AL053951</td>\n",
       "      <td>HONDA</td>\n",
       "      <td>CR-V</td>\n",
       "      <td>2010</td>\n",
       "      <td>3389.0</td>\n",
       "    </tr>\n",
       "    <tr>\n",
       "      <th>3</th>\n",
       "      <td>1N4AA5AP0EC435185</td>\n",
       "      <td>NISSAN</td>\n",
       "      <td>MAXIMA</td>\n",
       "      <td>2014</td>\n",
       "      <td>3556.0</td>\n",
       "    </tr>\n",
       "    <tr>\n",
       "      <th>4</th>\n",
       "      <td>JTHCK262075010440</td>\n",
       "      <td>LEXUS</td>\n",
       "      <td>IS</td>\n",
       "      <td>2007</td>\n",
       "      <td>3527.0</td>\n",
       "    </tr>\n",
       "  </tbody>\n",
       "</table>\n",
       "</div>"
      ],
      "text/plain": [
       "                 VIN       Make     Model  ModelYear  weight\n",
       "0  2FMDA5143TBB45576       FORD  WINDSTAR       1996  3733.0\n",
       "1  2G1WC5E37E1120089  CHEVROLET    IMPALA       2014  3618.0\n",
       "2  5J6RE4H55AL053951      HONDA      CR-V       2010  3389.0\n",
       "3  1N4AA5AP0EC435185     NISSAN    MAXIMA       2014  3556.0\n",
       "4  JTHCK262075010440      LEXUS        IS       2007  3527.0"
      ]
     },
     "execution_count": 5,
     "metadata": {},
     "output_type": "execute_result"
    }
   ],
   "source": [
    "vaw.head()"
   ]
  },
  {
   "cell_type": "markdown",
   "metadata": {},
   "source": [
    "Confirm that your combined `vehicles` dataset should have 534,436 rows and 35 columns. And yes, that's less than we were working with before - you haven't combined it with the people/crashes dataset yet."
   ]
  },
  {
   "cell_type": "code",
   "execution_count": 5,
   "metadata": {},
   "outputs": [
    {
     "data": {
      "text/plain": [
       "(534436, 35)"
      ]
     },
     "execution_count": 5,
     "metadata": {},
     "output_type": "execute_result"
    }
   ],
   "source": [
    "vehicles = vehicles.merge(vaw, left_on=\"VIN_NO\", right_on=\"VIN\")\n",
    "vehicles.shape"
   ]
  },
  {
   "cell_type": "code",
   "execution_count": 10,
   "metadata": {},
   "outputs": [
    {
     "name": "stdout",
     "output_type": "stream",
     "text": [
      "<class 'pandas.core.frame.DataFrame'>\n",
      "Int64Index: 534890 entries, 0 to 534889\n",
      "Data columns (total 40 columns):\n",
      "AREA_DAMAGED_CODE1           514889 non-null float64\n",
      "AREA_DAMAGED_CODE2           313305 non-null float64\n",
      "AREA_DAMAGED_CODE3           203055 non-null float64\n",
      "AREA_DAMAGED_CODE_IMP1       530728 non-null float64\n",
      "AREA_DAMAGED_CODE_MAIN       528765 non-null float64\n",
      "BODY_TYPE_CODE               534890 non-null float64\n",
      "COMMERCIAL_FLAG              534890 non-null object\n",
      "CONTI_DIRECTION_CODE         472477 non-null object\n",
      "CV_BODY_TYPE_CODE            1323 non-null float64\n",
      "DAMAGE_CODE                  534890 non-null int64\n",
      "DRIVERLESS_FLAG              534890 non-null object\n",
      "FIRE_FLAG                    455860 non-null object\n",
      "GOING_DIRECTION_CODE         472477 non-null object\n",
      "GVW_CODE                     1323 non-null float64\n",
      "HARM_EVENT_CODE              534890 non-null float64\n",
      "HAZMAT_SPILL_FLAG            337 non-null object\n",
      "HIT_AND_RUN_FLAG             534890 non-null object\n",
      "HZM_NUM                      32 non-null object\n",
      "MOVEMENT_CODE                534890 non-null float64\n",
      "NUM_AXLES                    1322 non-null float64\n",
      "PARKED_FLAG                  534890 non-null object\n",
      "REPORT_NO                    534890 non-null object\n",
      "SPEED_LIMIT                  534890 non-null int64\n",
      "TOWED_AWAY_FLAG              534890 non-null object\n",
      "TOWED_VEHICLE_CONFIG_CODE    534890 non-null int64\n",
      "VEHICLE_ID                   534890 non-null object\n",
      "VEH_MAKE                     534884 non-null object\n",
      "VEH_MODEL                    534769 non-null object\n",
      "VEH_YEAR                     534890 non-null float64\n",
      "VIN_NO                       534890 non-null object\n",
      "VIN_x                        534890 non-null object\n",
      "Make_x                       534890 non-null object\n",
      "Model_x                      534890 non-null object\n",
      "ModelYear_x                  534890 non-null float64\n",
      "weight_x                     534890 non-null float64\n",
      "VIN_y                        534890 non-null object\n",
      "Make_y                       534890 non-null object\n",
      "Model_y                      534890 non-null object\n",
      "ModelYear_y                  534890 non-null int64\n",
      "weight_y                     534890 non-null float64\n",
      "dtypes: float64(15), int64(4), object(21)\n",
      "memory usage: 124.5+ MB\n"
     ]
    }
   ],
   "source": [
    "vehicles.info()"
   ]
  },
  {
   "cell_type": "markdown",
   "metadata": {},
   "source": [
    "### Filter your data\n",
    "\n",
    "We only want vehicles that are \"normal\" - somewhere between 1500 and 6000 pounds. Filter your vehicles to only include those in that weight range."
   ]
  },
  {
   "cell_type": "code",
   "execution_count": 7,
   "metadata": {},
   "outputs": [],
   "source": [
    "df = vehicles[(vehicles['weight']>= 1500) & (vehicles['weight']<= 6000)]"
   ]
  },
  {
   "cell_type": "markdown",
   "metadata": {},
   "source": [
    "Confirm that you have 532,370 vehicles in the dataset."
   ]
  },
  {
   "cell_type": "code",
   "execution_count": 19,
   "metadata": {},
   "outputs": [
    {
     "data": {
      "text/plain": [
       "Index(['AREA_DAMAGED_CODE1', 'AREA_DAMAGED_CODE2', 'AREA_DAMAGED_CODE3',\n",
       "       'AREA_DAMAGED_CODE_IMP1', 'AREA_DAMAGED_CODE_MAIN', 'BODY_TYPE_CODE',\n",
       "       'COMMERCIAL_FLAG', 'CONTI_DIRECTION_CODE', 'CV_BODY_TYPE_CODE',\n",
       "       'DAMAGE_CODE', 'DRIVERLESS_FLAG', 'FIRE_FLAG', 'GOING_DIRECTION_CODE',\n",
       "       'GVW_CODE', 'HARM_EVENT_CODE', 'HAZMAT_SPILL_FLAG', 'HIT_AND_RUN_FLAG',\n",
       "       'HZM_NUM', 'MOVEMENT_CODE', 'NUM_AXLES', 'PARKED_FLAG', 'REPORT_NO',\n",
       "       'SPEED_LIMIT', 'TOWED_AWAY_FLAG', 'TOWED_VEHICLE_CONFIG_CODE',\n",
       "       'VEHICLE_ID', 'VEH_MAKE', 'VEH_MODEL', 'VEH_YEAR', 'VIN_NO', 'VIN_x',\n",
       "       'Make_x', 'Model_x', 'ModelYear_x'],\n",
       "      dtype='object')"
      ]
     },
     "execution_count": 19,
     "metadata": {},
     "output_type": "execute_result"
    }
   ],
   "source": [
    "vehicles.columns"
   ]
  },
  {
   "cell_type": "code",
   "execution_count": 9,
   "metadata": {},
   "outputs": [],
   "source": [
    "df.to_csv('df_veh.csv')"
   ]
  },
  {
   "cell_type": "code",
   "execution_count": 3,
   "metadata": {},
   "outputs": [
    {
     "name": "stderr",
     "output_type": "stream",
     "text": [
      "C:\\Users\\Maximilian\\AppData\\Local\\Programs\\Python\\Python37-32\\lib\\site-packages\\IPython\\core\\interactiveshell.py:3049: DtypeWarning: Columns (18) have mixed types. Specify dtype option on import or set low_memory=False.\n",
      "  interactivity=interactivity, compiler=compiler, result=result)\n"
     ]
    }
   ],
   "source": [
    "df_veh = pd.read_csv(\"df_veh.csv\")"
   ]
  },
  {
   "cell_type": "code",
   "execution_count": 5,
   "metadata": {},
   "outputs": [],
   "source": [
    "xx = merged_df[['had_fatality', 'VEHICLE_ID']]"
   ]
  },
  {
   "cell_type": "markdown",
   "metadata": {},
   "source": [
    "## Add this vehicle information to your merged data\n",
    "\n",
    "Now we'll have a dataframe that contains information on:\n",
    "\n",
    "* The people themselves and their injuries\n",
    "* The crash\n",
    "* The vehicles\n",
    "\n",
    "Every person came with a `VEHICLE_ID` column that is the vehicle they were in. You'll want to merge on that."
   ]
  },
  {
   "cell_type": "code",
   "execution_count": 2,
   "metadata": {},
   "outputs": [],
   "source": [
    "xx = pd.read_csv(\"xx.csv\")"
   ]
  },
  {
   "cell_type": "code",
   "execution_count": 7,
   "metadata": {},
   "outputs": [],
   "source": [
    "xx.to_csv('xx.csv')\n",
    "#I lost 3 hrs with memory errors. hence this."
   ]
  },
  {
   "cell_type": "code",
   "execution_count": 4,
   "metadata": {},
   "outputs": [],
   "source": [
    "merged2 = pd.merge(xx, df_veh, on='VEHICLE_ID')"
   ]
  },
  {
   "cell_type": "markdown",
   "metadata": {},
   "source": [
    "Confirm you have 99 columns and 616,212 rows. **That is a lot of possible features!**"
   ]
  },
  {
   "cell_type": "markdown",
   "metadata": {},
   "source": [
    "## Another regression, because we can't get enough\n",
    "\n",
    "Build another `train_df` and run another regression about **how car weight impacts the chance of fatalities**. You'll want to confirm that your dataset has 616,212 and 2 columns."
   ]
  },
  {
   "cell_type": "code",
   "execution_count": 8,
   "metadata": {},
   "outputs": [],
   "source": [
    "train_df = merged2.copy()\n",
    "train_df = train_df[['had_fatality', 'weight']]"
   ]
  },
  {
   "cell_type": "code",
   "execution_count": 9,
   "metadata": {},
   "outputs": [
    {
     "data": {
      "text/plain": [
       "(596148, 2)"
      ]
     },
     "execution_count": 9,
     "metadata": {},
     "output_type": "execute_result"
    }
   ],
   "source": [
    "train_df.shape"
   ]
  },
  {
   "cell_type": "code",
   "execution_count": 10,
   "metadata": {},
   "outputs": [],
   "source": [
    "X = train_df.drop(columns=['had_fatality'])\n",
    "y = train_df.had_fatality"
   ]
  },
  {
   "cell_type": "code",
   "execution_count": 11,
   "metadata": {},
   "outputs": [
    {
     "data": {
      "text/plain": [
       "LogisticRegression(C=1000000000.0, class_weight=None, dual=False,\n",
       "                   fit_intercept=True, intercept_scaling=1, l1_ratio=None,\n",
       "                   max_iter=100, multi_class='warn', n_jobs=None, penalty='l2',\n",
       "                   random_state=None, solver='lbfgs', tol=0.0001, verbose=0,\n",
       "                   warm_start=False)"
      ]
     },
     "execution_count": 11,
     "metadata": {},
     "output_type": "execute_result"
    }
   ],
   "source": [
    "clf = LogisticRegression(C=1e9, solver='lbfgs')\n",
    "clf.fit(X, y)"
   ]
  },
  {
   "cell_type": "code",
   "execution_count": 12,
   "metadata": {},
   "outputs": [
    {
     "data": {
      "text/html": [
       "<div>\n",
       "<style scoped>\n",
       "    .dataframe tbody tr th:only-of-type {\n",
       "        vertical-align: middle;\n",
       "    }\n",
       "\n",
       "    .dataframe tbody tr th {\n",
       "        vertical-align: top;\n",
       "    }\n",
       "\n",
       "    .dataframe thead th {\n",
       "        text-align: right;\n",
       "    }\n",
       "</style>\n",
       "<table border=\"1\" class=\"dataframe\">\n",
       "  <thead>\n",
       "    <tr style=\"text-align: right;\">\n",
       "      <th></th>\n",
       "      <th>feature</th>\n",
       "      <th>coefficient (log odds ratio)</th>\n",
       "      <th>odds ratio</th>\n",
       "    </tr>\n",
       "  </thead>\n",
       "  <tbody>\n",
       "    <tr>\n",
       "      <th>0</th>\n",
       "      <td>weight</td>\n",
       "      <td>-0.000146</td>\n",
       "      <td>0.999854</td>\n",
       "    </tr>\n",
       "  </tbody>\n",
       "</table>\n",
       "</div>"
      ],
      "text/plain": [
       "  feature  coefficient (log odds ratio)  odds ratio\n",
       "0  weight                     -0.000146    0.999854"
      ]
     },
     "execution_count": 12,
     "metadata": {},
     "output_type": "execute_result"
    }
   ],
   "source": [
    "feature_names = X.columns\n",
    "coefficients = clf.coef_[0]\n",
    "\n",
    "pd.DataFrame({\n",
    "    'feature': feature_names,\n",
    "    'coefficient (log odds ratio)': coefficients,\n",
    "    'odds ratio': np.exp(coefficients)\n",
    "}).sort_values(by='odds ratio', ascending=False)"
   ]
  },
  {
   "cell_type": "markdown",
   "metadata": {},
   "source": [
    "**Can you translate that into plain English?** Remember weight is in **pounds**."
   ]
  },
  {
   "cell_type": "code",
   "execution_count": null,
   "metadata": {},
   "outputs": [],
   "source": []
  },
  {
   "cell_type": "markdown",
   "metadata": {},
   "source": [
    "I feel like pounds isn't the best measure for something like this. Remember how we had to adjust percentages with AP and life expecntancy, and then change around the way we said things? It sounded like this:\n",
    "\n",
    "> Every 10% increase in unemployment translates to a year and a half loss of life expectancy\n",
    "\n",
    "Instead of every single pound, maybe we could do every... some other number of pounds? One hundred? One thousand?\n",
    "\n",
    "**Run another regression with weight in thousands of pounds.** Get another odds ratio. Give me another sentence English."
   ]
  },
  {
   "cell_type": "code",
   "execution_count": 13,
   "metadata": {},
   "outputs": [],
   "source": [
    "train_df['weight'] = train_df.weight/1000"
   ]
  },
  {
   "cell_type": "code",
   "execution_count": 15,
   "metadata": {},
   "outputs": [],
   "source": [
    "train_df = merged2.copy()\n",
    "train_df = train_df[['had_fatality', 'weight']]\n",
    "train_df['weight'] = train_df.weight/1000"
   ]
  },
  {
   "cell_type": "code",
   "execution_count": 18,
   "metadata": {},
   "outputs": [],
   "source": [
    "X = train_df.drop(columns=['had_fatality'])\n",
    "y = train_df.had_fatality"
   ]
  },
  {
   "cell_type": "code",
   "execution_count": 19,
   "metadata": {},
   "outputs": [
    {
     "data": {
      "text/plain": [
       "LogisticRegression(C=1000000000.0, class_weight=None, dual=False,\n",
       "                   fit_intercept=True, intercept_scaling=1, l1_ratio=None,\n",
       "                   max_iter=100, multi_class='warn', n_jobs=None, penalty='l2',\n",
       "                   random_state=None, solver='lbfgs', tol=0.0001, verbose=0,\n",
       "                   warm_start=False)"
      ]
     },
     "execution_count": 19,
     "metadata": {},
     "output_type": "execute_result"
    }
   ],
   "source": [
    "clf = LogisticRegression(C=1e9, solver='lbfgs')\n",
    "clf.fit(X, y)"
   ]
  },
  {
   "cell_type": "code",
   "execution_count": 20,
   "metadata": {},
   "outputs": [
    {
     "data": {
      "text/html": [
       "<div>\n",
       "<style scoped>\n",
       "    .dataframe tbody tr th:only-of-type {\n",
       "        vertical-align: middle;\n",
       "    }\n",
       "\n",
       "    .dataframe tbody tr th {\n",
       "        vertical-align: top;\n",
       "    }\n",
       "\n",
       "    .dataframe thead th {\n",
       "        text-align: right;\n",
       "    }\n",
       "</style>\n",
       "<table border=\"1\" class=\"dataframe\">\n",
       "  <thead>\n",
       "    <tr style=\"text-align: right;\">\n",
       "      <th></th>\n",
       "      <th>feature</th>\n",
       "      <th>coefficient (log odds ratio)</th>\n",
       "      <th>odds ratio</th>\n",
       "    </tr>\n",
       "  </thead>\n",
       "  <tbody>\n",
       "    <tr>\n",
       "      <th>0</th>\n",
       "      <td>weight</td>\n",
       "      <td>-0.146277</td>\n",
       "      <td>0.863918</td>\n",
       "    </tr>\n",
       "  </tbody>\n",
       "</table>\n",
       "</div>"
      ],
      "text/plain": [
       "  feature  coefficient (log odds ratio)  odds ratio\n",
       "0  weight                     -0.146277    0.863918"
      ]
     },
     "execution_count": 20,
     "metadata": {},
     "output_type": "execute_result"
    }
   ],
   "source": [
    "feature_names = X.columns\n",
    "coefficients = clf.coef_[0]\n",
    "\n",
    "pd.DataFrame({\n",
    "    'feature': feature_names,\n",
    "    'coefficient (log odds ratio)': coefficients,\n",
    "    'odds ratio': np.exp(coefficients)\n",
    "}).sort_values(by='odds ratio', ascending=False)"
   ]
  },
  {
   "cell_type": "code",
   "execution_count": null,
   "metadata": {},
   "outputs": [],
   "source": [
    "# Every thousand pounds heavier your car is increase translates to a 15% decrease in fatalities"
   ]
  },
  {
   "cell_type": "markdown",
   "metadata": {},
   "source": [
    "# Two-car accidents, struck and striker\n",
    "\n",
    "Here's the thing, though: **it isn't just the weight of your car.** It's the weight of both cars! If I'm in a big car and I have a wreck with a smaller car, it's the smaller car that's in trouble.\n",
    "\n",
    "To get that value, we need to do some **feature engineering**, some calculating of *new* variables from our *existing* variables.\n",
    "\n",
    "We need to jump through some hoops to do that.\n",
    "\n",
    "##  Two-car accidents\n",
    "\n",
    "First we're going to count how many vehicles were in each accident. Since we're looking to compare the weight of two cars hitting each other, **we're only going to want crashes with only two cars.**"
   ]
  },
  {
   "cell_type": "code",
   "execution_count": 22,
   "metadata": {},
   "outputs": [
    {
     "data": {
      "text/plain": [
       "CB53480003      28\n",
       "MDTA1229000H    26\n",
       "AS0286000B      14\n",
       "CE4636002C      14\n",
       "MSP6063006C     13\n",
       "MSP67460095     13\n",
       "AE5607002W      12\n",
       "CC0237003W      12\n",
       "MSP63070049     12\n",
       "MSP6297005S     11\n",
       "Name: REPORT_NO, dtype: int64"
      ]
     },
     "execution_count": 22,
     "metadata": {},
     "output_type": "execute_result"
    }
   ],
   "source": [
    "counted = df_veh.REPORT_NO.value_counts()\n",
    "counted.head(10)"
   ]
  },
  {
   "cell_type": "markdown",
   "metadata": {},
   "source": [
    "By using `.value_counts` I can see how many cars were in each crash, and now I'm going to filter to get a list of all of the ones with two vehicles."
   ]
  },
  {
   "cell_type": "code",
   "execution_count": 23,
   "metadata": {},
   "outputs": [
    {
     "data": {
      "text/plain": [
       "Index(['DA4118000K', 'DE3107000H', 'MCP28480055', 'AE4727002T', 'ADJ252002H',\n",
       "       'ADJ592001P', 'MSP6049009H', 'MSP6852002J', 'MSP6278003L', 'DA33630002',\n",
       "       ...\n",
       "       'AE56260005', 'AE3788003T', 'BS05140002', 'DA3935001Z', 'ZU6930000X',\n",
       "       'DA39890007', 'ZJ0499000B', 'MDTA16470014', 'ADF880001K',\n",
       "       'MSP58610047'],\n",
       "      dtype='object', length=137214)"
      ]
     },
     "execution_count": 23,
     "metadata": {},
     "output_type": "execute_result"
    }
   ],
   "source": [
    "two_car_report_nos = counted[counted == 2].index\n",
    "two_car_report_nos"
   ]
  },
  {
   "cell_type": "markdown",
   "metadata": {},
   "source": [
    "And now we'll filter my vehicles so we only have those that were in two-vehicle crashes."
   ]
  },
  {
   "cell_type": "code",
   "execution_count": 25,
   "metadata": {},
   "outputs": [],
   "source": [
    "vehicles = df_veh[df_veh.REPORT_NO.isin(two_car_report_nos)]"
   ]
  },
  {
   "cell_type": "markdown",
   "metadata": {},
   "source": [
    "### Struck and striker\n",
    "\n",
    "To do the math correctly, we need both the risk of someone dying in the smaller car _and_ the risk of someone dying in the bigger car. To do this we need to separate our cars into two groups:\n",
    "\n",
    "* The 'struck' vehicle: did the person die inside?\n",
    "* The 'striker' vehicle: how much heavier was it than the struck car?\n",
    "\n",
    "But we don't know which car was which, so we have to try out both versions - pretending car A was the striker, then pretending car B was the striker. It's hard to explain, but you can read `Pounds That Kill - The External Costs of Vehicle Weight.pdf` for more details on how it works."
   ]
  },
  {
   "cell_type": "code",
   "execution_count": 26,
   "metadata": {},
   "outputs": [],
   "source": [
    "cars_1 = vehicles.drop_duplicates(subset='REPORT_NO', keep='first')\n",
    "cars_2 = vehicles.drop_duplicates(subset='REPORT_NO', keep='last')"
   ]
  },
  {
   "cell_type": "code",
   "execution_count": 27,
   "metadata": {},
   "outputs": [
    {
     "data": {
      "text/html": [
       "<div>\n",
       "<style scoped>\n",
       "    .dataframe tbody tr th:only-of-type {\n",
       "        vertical-align: middle;\n",
       "    }\n",
       "\n",
       "    .dataframe tbody tr th {\n",
       "        vertical-align: top;\n",
       "    }\n",
       "\n",
       "    .dataframe thead th {\n",
       "        text-align: right;\n",
       "    }\n",
       "</style>\n",
       "<table border=\"1\" class=\"dataframe\">\n",
       "  <thead>\n",
       "    <tr style=\"text-align: right;\">\n",
       "      <th></th>\n",
       "      <th>Unnamed: 0_striker</th>\n",
       "      <th>AREA_DAMAGED_CODE1_striker</th>\n",
       "      <th>AREA_DAMAGED_CODE2_striker</th>\n",
       "      <th>AREA_DAMAGED_CODE3_striker</th>\n",
       "      <th>AREA_DAMAGED_CODE_IMP1_striker</th>\n",
       "      <th>AREA_DAMAGED_CODE_MAIN_striker</th>\n",
       "      <th>BODY_TYPE_CODE_striker</th>\n",
       "      <th>COMMERCIAL_FLAG_striker</th>\n",
       "      <th>CONTI_DIRECTION_CODE_striker</th>\n",
       "      <th>CV_BODY_TYPE_CODE_striker</th>\n",
       "      <th>DAMAGE_CODE_striker</th>\n",
       "      <th>DRIVERLESS_FLAG_striker</th>\n",
       "      <th>FIRE_FLAG_striker</th>\n",
       "      <th>GOING_DIRECTION_CODE_striker</th>\n",
       "      <th>GVW_CODE_striker</th>\n",
       "      <th>HARM_EVENT_CODE_striker</th>\n",
       "      <th>HAZMAT_SPILL_FLAG_striker</th>\n",
       "      <th>HIT_AND_RUN_FLAG_striker</th>\n",
       "      <th>HZM_NUM_striker</th>\n",
       "      <th>MOVEMENT_CODE_striker</th>\n",
       "      <th>NUM_AXLES_striker</th>\n",
       "      <th>PARKED_FLAG_striker</th>\n",
       "      <th>REPORT_NO</th>\n",
       "      <th>SPEED_LIMIT_striker</th>\n",
       "      <th>TOWED_AWAY_FLAG_striker</th>\n",
       "      <th>TOWED_VEHICLE_CONFIG_CODE_striker</th>\n",
       "      <th>VEHICLE_ID_striker</th>\n",
       "      <th>VEH_MAKE_striker</th>\n",
       "      <th>VEH_MODEL_striker</th>\n",
       "      <th>VEH_YEAR_striker</th>\n",
       "      <th>VIN_NO_striker</th>\n",
       "      <th>VIN_striker</th>\n",
       "      <th>Make_striker</th>\n",
       "      <th>Model_striker</th>\n",
       "      <th>ModelYear_striker</th>\n",
       "      <th>weight_striker</th>\n",
       "      <th>Unnamed: 0_struck</th>\n",
       "      <th>AREA_DAMAGED_CODE1_struck</th>\n",
       "      <th>AREA_DAMAGED_CODE2_struck</th>\n",
       "      <th>AREA_DAMAGED_CODE3_struck</th>\n",
       "      <th>AREA_DAMAGED_CODE_IMP1_struck</th>\n",
       "      <th>AREA_DAMAGED_CODE_MAIN_struck</th>\n",
       "      <th>BODY_TYPE_CODE_struck</th>\n",
       "      <th>COMMERCIAL_FLAG_struck</th>\n",
       "      <th>CONTI_DIRECTION_CODE_struck</th>\n",
       "      <th>CV_BODY_TYPE_CODE_struck</th>\n",
       "      <th>DAMAGE_CODE_struck</th>\n",
       "      <th>DRIVERLESS_FLAG_struck</th>\n",
       "      <th>FIRE_FLAG_struck</th>\n",
       "      <th>GOING_DIRECTION_CODE_struck</th>\n",
       "      <th>GVW_CODE_struck</th>\n",
       "      <th>HARM_EVENT_CODE_struck</th>\n",
       "      <th>HAZMAT_SPILL_FLAG_struck</th>\n",
       "      <th>HIT_AND_RUN_FLAG_struck</th>\n",
       "      <th>HZM_NUM_struck</th>\n",
       "      <th>MOVEMENT_CODE_struck</th>\n",
       "      <th>NUM_AXLES_struck</th>\n",
       "      <th>PARKED_FLAG_struck</th>\n",
       "      <th>SPEED_LIMIT_struck</th>\n",
       "      <th>TOWED_AWAY_FLAG_struck</th>\n",
       "      <th>TOWED_VEHICLE_CONFIG_CODE_struck</th>\n",
       "      <th>VEHICLE_ID_struck</th>\n",
       "      <th>VEH_MAKE_struck</th>\n",
       "      <th>VEH_MODEL_struck</th>\n",
       "      <th>VEH_YEAR_struck</th>\n",
       "      <th>VIN_NO_struck</th>\n",
       "      <th>VIN_struck</th>\n",
       "      <th>Make_struck</th>\n",
       "      <th>Model_struck</th>\n",
       "      <th>ModelYear_struck</th>\n",
       "      <th>weight_struck</th>\n",
       "    </tr>\n",
       "  </thead>\n",
       "  <tbody>\n",
       "    <tr>\n",
       "      <th>0</th>\n",
       "      <td>2</td>\n",
       "      <td>6.0</td>\n",
       "      <td>7.0</td>\n",
       "      <td>NaN</td>\n",
       "      <td>6.0</td>\n",
       "      <td>6.0</td>\n",
       "      <td>20.0</td>\n",
       "      <td>N</td>\n",
       "      <td>N</td>\n",
       "      <td>NaN</td>\n",
       "      <td>3</td>\n",
       "      <td>N</td>\n",
       "      <td>N</td>\n",
       "      <td>N</td>\n",
       "      <td>NaN</td>\n",
       "      <td>1.0</td>\n",
       "      <td>NaN</td>\n",
       "      <td>N</td>\n",
       "      <td>NaN</td>\n",
       "      <td>6.0</td>\n",
       "      <td>NaN</td>\n",
       "      <td>N</td>\n",
       "      <td>CB5190006B</td>\n",
       "      <td>55</td>\n",
       "      <td>N</td>\n",
       "      <td>0</td>\n",
       "      <td>0003b659-2785-4868-8877-0b786a284827</td>\n",
       "      <td>TOYT</td>\n",
       "      <td>TK</td>\n",
       "      <td>2011.0</td>\n",
       "      <td>5TFUY5F1XBX167340</td>\n",
       "      <td>5TFUY5F1XBX167340</td>\n",
       "      <td>TOYOTA</td>\n",
       "      <td>TUNDRA</td>\n",
       "      <td>2011</td>\n",
       "      <td>5480.0</td>\n",
       "      <td>2528</td>\n",
       "      <td>3.0</td>\n",
       "      <td>5.0</td>\n",
       "      <td>6.0</td>\n",
       "      <td>6.0</td>\n",
       "      <td>6.0</td>\n",
       "      <td>23.08</td>\n",
       "      <td>N</td>\n",
       "      <td>N</td>\n",
       "      <td>NaN</td>\n",
       "      <td>5</td>\n",
       "      <td>N</td>\n",
       "      <td>N</td>\n",
       "      <td>N</td>\n",
       "      <td>NaN</td>\n",
       "      <td>1.0</td>\n",
       "      <td>NaN</td>\n",
       "      <td>N</td>\n",
       "      <td>NaN</td>\n",
       "      <td>6.0</td>\n",
       "      <td>NaN</td>\n",
       "      <td>N</td>\n",
       "      <td>55</td>\n",
       "      <td>Y</td>\n",
       "      <td>0</td>\n",
       "      <td>0e7da302-5f53-45c8-8b28-393cdc38171d</td>\n",
       "      <td>JEEP</td>\n",
       "      <td>CHEROKEE</td>\n",
       "      <td>2015.0</td>\n",
       "      <td>1C4RJFBGXFC751955</td>\n",
       "      <td>1C4RJFBGXFC751955</td>\n",
       "      <td>JEEP</td>\n",
       "      <td>GRAND CHEROKEE</td>\n",
       "      <td>2015</td>\n",
       "      <td>4545.0</td>\n",
       "    </tr>\n",
       "    <tr>\n",
       "      <th>1</th>\n",
       "      <td>3</td>\n",
       "      <td>8.0</td>\n",
       "      <td>NaN</td>\n",
       "      <td>NaN</td>\n",
       "      <td>8.0</td>\n",
       "      <td>8.0</td>\n",
       "      <td>2.0</td>\n",
       "      <td>N</td>\n",
       "      <td>W</td>\n",
       "      <td>NaN</td>\n",
       "      <td>2</td>\n",
       "      <td>N</td>\n",
       "      <td>NaN</td>\n",
       "      <td>W</td>\n",
       "      <td>NaN</td>\n",
       "      <td>1.0</td>\n",
       "      <td>NaN</td>\n",
       "      <td>N</td>\n",
       "      <td>NaN</td>\n",
       "      <td>8.0</td>\n",
       "      <td>NaN</td>\n",
       "      <td>N</td>\n",
       "      <td>ADJ4590035</td>\n",
       "      <td>5</td>\n",
       "      <td>N</td>\n",
       "      <td>0</td>\n",
       "      <td>00050484-d08f-4b6e-bc7e-9ec270e94660</td>\n",
       "      <td>HONDA</td>\n",
       "      <td>CIVIC</td>\n",
       "      <td>2015.0</td>\n",
       "      <td>2HGFG4A59FH702545</td>\n",
       "      <td>2HGFG4A59FH702545</td>\n",
       "      <td>HONDA</td>\n",
       "      <td>CIVIC</td>\n",
       "      <td>2015</td>\n",
       "      <td>2754.0</td>\n",
       "      <td>10723</td>\n",
       "      <td>99.0</td>\n",
       "      <td>NaN</td>\n",
       "      <td>NaN</td>\n",
       "      <td>99.0</td>\n",
       "      <td>99.0</td>\n",
       "      <td>2.00</td>\n",
       "      <td>N</td>\n",
       "      <td>W</td>\n",
       "      <td>NaN</td>\n",
       "      <td>99</td>\n",
       "      <td>N</td>\n",
       "      <td>N</td>\n",
       "      <td>W</td>\n",
       "      <td>NaN</td>\n",
       "      <td>1.0</td>\n",
       "      <td>NaN</td>\n",
       "      <td>Y</td>\n",
       "      <td>NaN</td>\n",
       "      <td>1.0</td>\n",
       "      <td>NaN</td>\n",
       "      <td>N</td>\n",
       "      <td>5</td>\n",
       "      <td>N</td>\n",
       "      <td>0</td>\n",
       "      <td>3ebfe7fc-4832-414d-a5e8-391b65a2f280</td>\n",
       "      <td>HONDA</td>\n",
       "      <td>ACCORD</td>\n",
       "      <td>2013.0</td>\n",
       "      <td>1HGCT2B81DA005695</td>\n",
       "      <td>1HGCT2B81DA005695</td>\n",
       "      <td>HONDA</td>\n",
       "      <td>ACCORD</td>\n",
       "      <td>2013</td>\n",
       "      <td>3163.0</td>\n",
       "    </tr>\n",
       "    <tr>\n",
       "      <th>2</th>\n",
       "      <td>4</td>\n",
       "      <td>12.0</td>\n",
       "      <td>NaN</td>\n",
       "      <td>NaN</td>\n",
       "      <td>12.0</td>\n",
       "      <td>12.0</td>\n",
       "      <td>2.0</td>\n",
       "      <td>N</td>\n",
       "      <td>N</td>\n",
       "      <td>NaN</td>\n",
       "      <td>4</td>\n",
       "      <td>N</td>\n",
       "      <td>NaN</td>\n",
       "      <td>N</td>\n",
       "      <td>NaN</td>\n",
       "      <td>0.0</td>\n",
       "      <td>NaN</td>\n",
       "      <td>N</td>\n",
       "      <td>NaN</td>\n",
       "      <td>1.0</td>\n",
       "      <td>NaN</td>\n",
       "      <td>N</td>\n",
       "      <td>ADJ849000Z</td>\n",
       "      <td>10</td>\n",
       "      <td>N</td>\n",
       "      <td>0</td>\n",
       "      <td>00057af4-d848-4cee-b854-707f57581f4e</td>\n",
       "      <td>HONDA</td>\n",
       "      <td>ACCORD</td>\n",
       "      <td>2003.0</td>\n",
       "      <td>1HGCM66313A037175</td>\n",
       "      <td>1HGCM66313A037175</td>\n",
       "      <td>HONDA</td>\n",
       "      <td>ACCORD</td>\n",
       "      <td>2003</td>\n",
       "      <td>3023.0</td>\n",
       "      <td>13102</td>\n",
       "      <td>12.0</td>\n",
       "      <td>NaN</td>\n",
       "      <td>NaN</td>\n",
       "      <td>12.0</td>\n",
       "      <td>12.0</td>\n",
       "      <td>2.00</td>\n",
       "      <td>N</td>\n",
       "      <td>NaN</td>\n",
       "      <td>NaN</td>\n",
       "      <td>3</td>\n",
       "      <td>Y</td>\n",
       "      <td>NaN</td>\n",
       "      <td>NaN</td>\n",
       "      <td>NaN</td>\n",
       "      <td>1.0</td>\n",
       "      <td>NaN</td>\n",
       "      <td>N</td>\n",
       "      <td>NaN</td>\n",
       "      <td>10.0</td>\n",
       "      <td>NaN</td>\n",
       "      <td>Y</td>\n",
       "      <td>0</td>\n",
       "      <td>N</td>\n",
       "      <td>0</td>\n",
       "      <td>4cf496cc-f537-447e-bb8e-3ef48c8c3ddf</td>\n",
       "      <td>HONDA</td>\n",
       "      <td>TK</td>\n",
       "      <td>2010.0</td>\n",
       "      <td>5J6RE3H73AL008454</td>\n",
       "      <td>5J6RE3H73AL008454</td>\n",
       "      <td>HONDA</td>\n",
       "      <td>CR-V</td>\n",
       "      <td>2010</td>\n",
       "      <td>3389.0</td>\n",
       "    </tr>\n",
       "    <tr>\n",
       "      <th>3</th>\n",
       "      <td>5</td>\n",
       "      <td>1.0</td>\n",
       "      <td>11.0</td>\n",
       "      <td>12.0</td>\n",
       "      <td>12.0</td>\n",
       "      <td>12.0</td>\n",
       "      <td>2.0</td>\n",
       "      <td>N</td>\n",
       "      <td>S</td>\n",
       "      <td>NaN</td>\n",
       "      <td>4</td>\n",
       "      <td>N</td>\n",
       "      <td>N</td>\n",
       "      <td>S</td>\n",
       "      <td>NaN</td>\n",
       "      <td>1.0</td>\n",
       "      <td>NaN</td>\n",
       "      <td>N</td>\n",
       "      <td>NaN</td>\n",
       "      <td>12.0</td>\n",
       "      <td>NaN</td>\n",
       "      <td>N</td>\n",
       "      <td>AE5207008Z</td>\n",
       "      <td>30</td>\n",
       "      <td>Y</td>\n",
       "      <td>0</td>\n",
       "      <td>00089d4a-7038-4693-9e02-b402676631af</td>\n",
       "      <td>FORD</td>\n",
       "      <td>4D</td>\n",
       "      <td>2016.0</td>\n",
       "      <td>1FADP3K28GL258987</td>\n",
       "      <td>1FADP3K28GL258987</td>\n",
       "      <td>FORD</td>\n",
       "      <td>FOCUS</td>\n",
       "      <td>2016</td>\n",
       "      <td>2932.0</td>\n",
       "      <td>5235</td>\n",
       "      <td>11.0</td>\n",
       "      <td>12.0</td>\n",
       "      <td>NaN</td>\n",
       "      <td>12.0</td>\n",
       "      <td>12.0</td>\n",
       "      <td>23.08</td>\n",
       "      <td>N</td>\n",
       "      <td>N</td>\n",
       "      <td>NaN</td>\n",
       "      <td>4</td>\n",
       "      <td>N</td>\n",
       "      <td>N</td>\n",
       "      <td>N</td>\n",
       "      <td>NaN</td>\n",
       "      <td>1.0</td>\n",
       "      <td>NaN</td>\n",
       "      <td>N</td>\n",
       "      <td>NaN</td>\n",
       "      <td>1.0</td>\n",
       "      <td>NaN</td>\n",
       "      <td>N</td>\n",
       "      <td>30</td>\n",
       "      <td>Y</td>\n",
       "      <td>0</td>\n",
       "      <td>1e69b284-719f-429b-baae-6ae4976a546b</td>\n",
       "      <td>BUICK</td>\n",
       "      <td>TK</td>\n",
       "      <td>2002.0</td>\n",
       "      <td>3G5DB03E52S528316</td>\n",
       "      <td>3G5DB03E52S528316</td>\n",
       "      <td>BUICK</td>\n",
       "      <td>RENDEZVOUS</td>\n",
       "      <td>2002</td>\n",
       "      <td>4024.0</td>\n",
       "    </tr>\n",
       "    <tr>\n",
       "      <th>4</th>\n",
       "      <td>6</td>\n",
       "      <td>2.0</td>\n",
       "      <td>NaN</td>\n",
       "      <td>NaN</td>\n",
       "      <td>2.0</td>\n",
       "      <td>2.0</td>\n",
       "      <td>2.0</td>\n",
       "      <td>N</td>\n",
       "      <td>S</td>\n",
       "      <td>NaN</td>\n",
       "      <td>99</td>\n",
       "      <td>N</td>\n",
       "      <td>N</td>\n",
       "      <td>S</td>\n",
       "      <td>NaN</td>\n",
       "      <td>1.0</td>\n",
       "      <td>NaN</td>\n",
       "      <td>Y</td>\n",
       "      <td>NaN</td>\n",
       "      <td>1.0</td>\n",
       "      <td>NaN</td>\n",
       "      <td>N</td>\n",
       "      <td>ADJ859000Y</td>\n",
       "      <td>15</td>\n",
       "      <td>N</td>\n",
       "      <td>0</td>\n",
       "      <td>0010076b-0a45-45f3-8796-f387b39cd85d</td>\n",
       "      <td>HONDA</td>\n",
       "      <td>CIVIC</td>\n",
       "      <td>2009.0</td>\n",
       "      <td>2HGFA16689H357624</td>\n",
       "      <td>2HGFA16689H357624</td>\n",
       "      <td>HONDA</td>\n",
       "      <td>CIVIC</td>\n",
       "      <td>2009</td>\n",
       "      <td>2678.0</td>\n",
       "      <td>29827</td>\n",
       "      <td>10.0</td>\n",
       "      <td>NaN</td>\n",
       "      <td>NaN</td>\n",
       "      <td>10.0</td>\n",
       "      <td>10.0</td>\n",
       "      <td>2.00</td>\n",
       "      <td>N</td>\n",
       "      <td>NaN</td>\n",
       "      <td>NaN</td>\n",
       "      <td>3</td>\n",
       "      <td>Y</td>\n",
       "      <td>N</td>\n",
       "      <td>NaN</td>\n",
       "      <td>NaN</td>\n",
       "      <td>1.0</td>\n",
       "      <td>NaN</td>\n",
       "      <td>N</td>\n",
       "      <td>NaN</td>\n",
       "      <td>10.0</td>\n",
       "      <td>NaN</td>\n",
       "      <td>Y</td>\n",
       "      <td>15</td>\n",
       "      <td>N</td>\n",
       "      <td>0</td>\n",
       "      <td>b14273cb-b3e5-42c7-af59-df069e8c2f0f</td>\n",
       "      <td>HONDA</td>\n",
       "      <td>CIVIC</td>\n",
       "      <td>2011.0</td>\n",
       "      <td>2HGFG1B87BH517469</td>\n",
       "      <td>2HGFG1B87BH517469</td>\n",
       "      <td>HONDA</td>\n",
       "      <td>CIVIC</td>\n",
       "      <td>2011</td>\n",
       "      <td>2703.0</td>\n",
       "    </tr>\n",
       "  </tbody>\n",
       "</table>\n",
       "</div>"
      ],
      "text/plain": [
       "   Unnamed: 0_striker  AREA_DAMAGED_CODE1_striker  AREA_DAMAGED_CODE2_striker  \\\n",
       "0                   2                         6.0                         7.0   \n",
       "1                   3                         8.0                         NaN   \n",
       "2                   4                        12.0                         NaN   \n",
       "3                   5                         1.0                        11.0   \n",
       "4                   6                         2.0                         NaN   \n",
       "\n",
       "   AREA_DAMAGED_CODE3_striker  AREA_DAMAGED_CODE_IMP1_striker  \\\n",
       "0                         NaN                             6.0   \n",
       "1                         NaN                             8.0   \n",
       "2                         NaN                            12.0   \n",
       "3                        12.0                            12.0   \n",
       "4                         NaN                             2.0   \n",
       "\n",
       "   AREA_DAMAGED_CODE_MAIN_striker  BODY_TYPE_CODE_striker  \\\n",
       "0                             6.0                    20.0   \n",
       "1                             8.0                     2.0   \n",
       "2                            12.0                     2.0   \n",
       "3                            12.0                     2.0   \n",
       "4                             2.0                     2.0   \n",
       "\n",
       "  COMMERCIAL_FLAG_striker CONTI_DIRECTION_CODE_striker  \\\n",
       "0                       N                            N   \n",
       "1                       N                            W   \n",
       "2                       N                            N   \n",
       "3                       N                            S   \n",
       "4                       N                            S   \n",
       "\n",
       "   CV_BODY_TYPE_CODE_striker  DAMAGE_CODE_striker DRIVERLESS_FLAG_striker  \\\n",
       "0                        NaN                    3                       N   \n",
       "1                        NaN                    2                       N   \n",
       "2                        NaN                    4                       N   \n",
       "3                        NaN                    4                       N   \n",
       "4                        NaN                   99                       N   \n",
       "\n",
       "  FIRE_FLAG_striker GOING_DIRECTION_CODE_striker  GVW_CODE_striker  \\\n",
       "0                 N                            N               NaN   \n",
       "1               NaN                            W               NaN   \n",
       "2               NaN                            N               NaN   \n",
       "3                 N                            S               NaN   \n",
       "4                 N                            S               NaN   \n",
       "\n",
       "   HARM_EVENT_CODE_striker HAZMAT_SPILL_FLAG_striker HIT_AND_RUN_FLAG_striker  \\\n",
       "0                      1.0                       NaN                        N   \n",
       "1                      1.0                       NaN                        N   \n",
       "2                      0.0                       NaN                        N   \n",
       "3                      1.0                       NaN                        N   \n",
       "4                      1.0                       NaN                        Y   \n",
       "\n",
       "  HZM_NUM_striker  MOVEMENT_CODE_striker  NUM_AXLES_striker  \\\n",
       "0             NaN                    6.0                NaN   \n",
       "1             NaN                    8.0                NaN   \n",
       "2             NaN                    1.0                NaN   \n",
       "3             NaN                   12.0                NaN   \n",
       "4             NaN                    1.0                NaN   \n",
       "\n",
       "  PARKED_FLAG_striker   REPORT_NO  SPEED_LIMIT_striker  \\\n",
       "0                   N  CB5190006B                   55   \n",
       "1                   N  ADJ4590035                    5   \n",
       "2                   N  ADJ849000Z                   10   \n",
       "3                   N  AE5207008Z                   30   \n",
       "4                   N  ADJ859000Y                   15   \n",
       "\n",
       "  TOWED_AWAY_FLAG_striker  TOWED_VEHICLE_CONFIG_CODE_striker  \\\n",
       "0                       N                                  0   \n",
       "1                       N                                  0   \n",
       "2                       N                                  0   \n",
       "3                       Y                                  0   \n",
       "4                       N                                  0   \n",
       "\n",
       "                     VEHICLE_ID_striker VEH_MAKE_striker VEH_MODEL_striker  \\\n",
       "0  0003b659-2785-4868-8877-0b786a284827             TOYT                TK   \n",
       "1  00050484-d08f-4b6e-bc7e-9ec270e94660            HONDA             CIVIC   \n",
       "2  00057af4-d848-4cee-b854-707f57581f4e            HONDA            ACCORD   \n",
       "3  00089d4a-7038-4693-9e02-b402676631af             FORD                4D   \n",
       "4  0010076b-0a45-45f3-8796-f387b39cd85d            HONDA             CIVIC   \n",
       "\n",
       "   VEH_YEAR_striker     VIN_NO_striker        VIN_striker Make_striker  \\\n",
       "0            2011.0  5TFUY5F1XBX167340  5TFUY5F1XBX167340       TOYOTA   \n",
       "1            2015.0  2HGFG4A59FH702545  2HGFG4A59FH702545        HONDA   \n",
       "2            2003.0  1HGCM66313A037175  1HGCM66313A037175        HONDA   \n",
       "3            2016.0  1FADP3K28GL258987  1FADP3K28GL258987         FORD   \n",
       "4            2009.0  2HGFA16689H357624  2HGFA16689H357624        HONDA   \n",
       "\n",
       "  Model_striker  ModelYear_striker  weight_striker  Unnamed: 0_struck  \\\n",
       "0        TUNDRA               2011          5480.0               2528   \n",
       "1         CIVIC               2015          2754.0              10723   \n",
       "2        ACCORD               2003          3023.0              13102   \n",
       "3         FOCUS               2016          2932.0               5235   \n",
       "4         CIVIC               2009          2678.0              29827   \n",
       "\n",
       "   AREA_DAMAGED_CODE1_struck  AREA_DAMAGED_CODE2_struck  \\\n",
       "0                        3.0                        5.0   \n",
       "1                       99.0                        NaN   \n",
       "2                       12.0                        NaN   \n",
       "3                       11.0                       12.0   \n",
       "4                       10.0                        NaN   \n",
       "\n",
       "   AREA_DAMAGED_CODE3_struck  AREA_DAMAGED_CODE_IMP1_struck  \\\n",
       "0                        6.0                            6.0   \n",
       "1                        NaN                           99.0   \n",
       "2                        NaN                           12.0   \n",
       "3                        NaN                           12.0   \n",
       "4                        NaN                           10.0   \n",
       "\n",
       "   AREA_DAMAGED_CODE_MAIN_struck  BODY_TYPE_CODE_struck  \\\n",
       "0                            6.0                  23.08   \n",
       "1                           99.0                   2.00   \n",
       "2                           12.0                   2.00   \n",
       "3                           12.0                  23.08   \n",
       "4                           10.0                   2.00   \n",
       "\n",
       "  COMMERCIAL_FLAG_struck CONTI_DIRECTION_CODE_struck  \\\n",
       "0                      N                           N   \n",
       "1                      N                           W   \n",
       "2                      N                         NaN   \n",
       "3                      N                           N   \n",
       "4                      N                         NaN   \n",
       "\n",
       "   CV_BODY_TYPE_CODE_struck  DAMAGE_CODE_struck DRIVERLESS_FLAG_struck  \\\n",
       "0                       NaN                   5                      N   \n",
       "1                       NaN                  99                      N   \n",
       "2                       NaN                   3                      Y   \n",
       "3                       NaN                   4                      N   \n",
       "4                       NaN                   3                      Y   \n",
       "\n",
       "  FIRE_FLAG_struck GOING_DIRECTION_CODE_struck  GVW_CODE_struck  \\\n",
       "0                N                           N              NaN   \n",
       "1                N                           W              NaN   \n",
       "2              NaN                         NaN              NaN   \n",
       "3                N                           N              NaN   \n",
       "4                N                         NaN              NaN   \n",
       "\n",
       "   HARM_EVENT_CODE_struck HAZMAT_SPILL_FLAG_struck HIT_AND_RUN_FLAG_struck  \\\n",
       "0                     1.0                      NaN                       N   \n",
       "1                     1.0                      NaN                       Y   \n",
       "2                     1.0                      NaN                       N   \n",
       "3                     1.0                      NaN                       N   \n",
       "4                     1.0                      NaN                       N   \n",
       "\n",
       "  HZM_NUM_struck  MOVEMENT_CODE_struck  NUM_AXLES_struck PARKED_FLAG_struck  \\\n",
       "0            NaN                   6.0               NaN                  N   \n",
       "1            NaN                   1.0               NaN                  N   \n",
       "2            NaN                  10.0               NaN                  Y   \n",
       "3            NaN                   1.0               NaN                  N   \n",
       "4            NaN                  10.0               NaN                  Y   \n",
       "\n",
       "   SPEED_LIMIT_struck TOWED_AWAY_FLAG_struck  \\\n",
       "0                  55                      Y   \n",
       "1                   5                      N   \n",
       "2                   0                      N   \n",
       "3                  30                      Y   \n",
       "4                  15                      N   \n",
       "\n",
       "   TOWED_VEHICLE_CONFIG_CODE_struck                     VEHICLE_ID_struck  \\\n",
       "0                                 0  0e7da302-5f53-45c8-8b28-393cdc38171d   \n",
       "1                                 0  3ebfe7fc-4832-414d-a5e8-391b65a2f280   \n",
       "2                                 0  4cf496cc-f537-447e-bb8e-3ef48c8c3ddf   \n",
       "3                                 0  1e69b284-719f-429b-baae-6ae4976a546b   \n",
       "4                                 0  b14273cb-b3e5-42c7-af59-df069e8c2f0f   \n",
       "\n",
       "  VEH_MAKE_struck VEH_MODEL_struck  VEH_YEAR_struck      VIN_NO_struck  \\\n",
       "0            JEEP         CHEROKEE           2015.0  1C4RJFBGXFC751955   \n",
       "1           HONDA           ACCORD           2013.0  1HGCT2B81DA005695   \n",
       "2           HONDA               TK           2010.0  5J6RE3H73AL008454   \n",
       "3           BUICK               TK           2002.0  3G5DB03E52S528316   \n",
       "4           HONDA            CIVIC           2011.0  2HGFG1B87BH517469   \n",
       "\n",
       "          VIN_struck Make_struck    Model_struck  ModelYear_struck  \\\n",
       "0  1C4RJFBGXFC751955        JEEP  GRAND CHEROKEE              2015   \n",
       "1  1HGCT2B81DA005695       HONDA          ACCORD              2013   \n",
       "2  5J6RE3H73AL008454       HONDA            CR-V              2010   \n",
       "3  3G5DB03E52S528316       BUICK      RENDEZVOUS              2002   \n",
       "4  2HGFG1B87BH517469       HONDA           CIVIC              2011   \n",
       "\n",
       "   weight_struck  \n",
       "0         4545.0  \n",
       "1         3163.0  \n",
       "2         3389.0  \n",
       "3         4024.0  \n",
       "4         2703.0  "
      ]
     },
     "execution_count": 27,
     "metadata": {},
     "output_type": "execute_result"
    }
   ],
   "source": [
    "cars_merged_1 = cars_1.merge(cars_2, on='REPORT_NO', suffixes=['_striker', '_struck'])\n",
    "cars_merged_2 = cars_2.merge(cars_1, on='REPORT_NO', suffixes=['_striker', '_struck'])\n",
    "vehicles_complete = pd.concat([cars_merged_1, cars_merged_2])\n",
    "vehicles_complete.head()"
   ]
  },
  {
   "cell_type": "markdown",
   "metadata": {},
   "source": [
    "## Put people in their cars\n",
    "\n",
    "Which car was each person in? We'll assign that now."
   ]
  },
  {
   "cell_type": "code",
   "execution_count": 32,
   "metadata": {},
   "outputs": [],
   "source": [
    "merged = people.merge(vehicles_complete, left_on='VEHICLE_ID', right_on='VEHICLE_ID_struck')\n",
    "merged.head(3)"
   ]
  },
  {
   "cell_type": "markdown",
   "metadata": {},
   "source": [
    "# Add the crash details\n",
    "\n",
    "You did this already! I'm going to do it for you. We're merging on `REPORT_NO_x` because there are so many `REPORT_NO` columns duplicated across our files that pandas started giving them weird names."
   ]
  },
  {
   "cell_type": "code",
   "execution_count": null,
   "metadata": {},
   "outputs": [],
   "source": [
    "merged = merged.merge(crashes, left_on='REPORT_NO_x', right_on='REPORT_NO')\n",
    "merged.head(3)"
   ]
  },
  {
   "cell_type": "markdown",
   "metadata": {},
   "source": [
    "## Filter\n",
    "\n",
    "We already filtered out vehicles by weight, so we don't have to do that again."
   ]
  },
  {
   "cell_type": "markdown",
   "metadata": {},
   "source": [
    "# Calculated features\n",
    "\n",
    "I'm sure you forgot what all the features are, so we'll bring back whether there was a fatality or not"
   ]
  },
  {
   "cell_type": "markdown",
   "metadata": {},
   "source": [
    "## Feature: Accident was fatal"
   ]
  },
  {
   "cell_type": "code",
   "execution_count": null,
   "metadata": {},
   "outputs": [],
   "source": [
    "merged['had_fatality'] = (merged.INJ_SEVER_CODE == 5).astype(int)\n",
    "merged.had_fatality.value_counts()"
   ]
  },
  {
   "cell_type": "markdown",
   "metadata": {},
   "source": [
    "## Feature: Weight difference\n",
    "\n",
    "**Remove everything missing weights for strikers or struck vehicles.** You might need to `merged.columns` to remind yourself what the column names are."
   ]
  },
  {
   "cell_type": "code",
   "execution_count": null,
   "metadata": {},
   "outputs": [],
   "source": [
    "merged = merged.dropna(subset=['weight_striker', 'weight_struck'])"
   ]
  },
  {
   "cell_type": "markdown",
   "metadata": {},
   "source": [
    "Confirm your dataset has roughly 335,000 rows."
   ]
  },
  {
   "cell_type": "code",
   "execution_count": null,
   "metadata": {},
   "outputs": [],
   "source": [
    "merged.shape"
   ]
  },
  {
   "cell_type": "markdown",
   "metadata": {},
   "source": [
    "Create a new feature called `weight_diff` about how much heavier the striking car was compared to the struck car. **Make sure you've done the math correctly!**"
   ]
  },
  {
   "cell_type": "code",
   "execution_count": null,
   "metadata": {},
   "outputs": [],
   "source": [
    "merged['weight_diff'] = merged.weight_striker - merged.weight_struck"
   ]
  },
  {
   "cell_type": "markdown",
   "metadata": {},
   "source": [
    "### Feature adjustment\n",
    "\n",
    "Make all of your weight columns in **thousands of pounds** instead of just in pounds. It'll help you interpret your results much better."
   ]
  },
  {
   "cell_type": "code",
   "execution_count": null,
   "metadata": {},
   "outputs": [],
   "source": [
    "merged['weight_diff'] = merged['weight_diff'] / 1000\n",
    "merged['weight_struck'] = merged['weight_struck'] / 1000\n",
    "merged['weight_striker'] = merged['weight_striker'] / 1000"
   ]
  },
  {
   "cell_type": "markdown",
   "metadata": {},
   "source": [
    "# Another regression!!!\n",
    "\n",
    "**What is the impact of weight difference on fatality rate?** Create your `train_df`, drop missing values, run your regression, analyze your odds ratios."
   ]
  },
  {
   "cell_type": "code",
   "execution_count": null,
   "metadata": {},
   "outputs": [],
   "source": [
    "train_df = merged[['had_fatality', 'weight_diff']]\n",
    "X = train_df.drop(columns=['had_fatality'])\n",
    "y = train_df.had_fatality\n",
    "logit = LogisticRegression()\n",
    "logit.fit(X, y)"
   ]
  },
  {
   "cell_type": "code",
   "execution_count": null,
   "metadata": {},
   "outputs": [],
   "source": [
    "feature_names = X.columns\n",
    "coefficients = clf.coef_[0]\n",
    "pd.DataFrame({\n",
    "   'feature': feature_names,\n",
    "   'coefficient (log odds ratio)': coefficients,\n",
    "   'odds ratio': np.exp(coefficients)\n",
    "}).sort_values(by='odds ratio', ascending=False)"
   ]
  },
  {
   "cell_type": "code",
   "execution_count": null,
   "metadata": {},
   "outputs": [],
   "source": []
  },
  {
   "cell_type": "markdown",
   "metadata": {},
   "source": [
    "Please translate your odds ratio into plain English."
   ]
  },
  {
   "cell_type": "code",
   "execution_count": null,
   "metadata": {},
   "outputs": [],
   "source": []
  },
  {
   "cell_type": "markdown",
   "metadata": {},
   "source": [
    "## Adding in more features\n",
    "\n",
    "How about speed limit? That's important, right? We can add the speed limit of the striking vehicle with `SPEED_LIMIT_striker`."
   ]
  },
  {
   "cell_type": "code",
   "execution_count": null,
   "metadata": {},
   "outputs": [],
   "source": [
    "train_df = merged[['had_fatality', 'weight_diff', 'SPEED_LIMIT_striker']]"
   ]
  },
  {
   "cell_type": "code",
   "execution_count": null,
   "metadata": {},
   "outputs": [],
   "source": [
    "X = train_df.drop(columns=['had_fatality'])\n",
    "y = train_df.is_fatality\n",
    "logit = LogisticRegression()\n",
    "logit.fit(X, y)"
   ]
  },
  {
   "cell_type": "code",
   "execution_count": null,
   "metadata": {},
   "outputs": [],
   "source": [
    "feature_names = X.columns\n",
    "coefficients = logit.coef_[0]\n",
    "pd.DataFrame({\n",
    "   'feature': feature_names,\n",
    "   'coefficient (log odds ratio)': coefficients,\n",
    "   'odds ratio': np.exp(coefficients)\n",
    "}).sort_values(by='odds ratio', ascending=False)"
   ]
  },
  {
   "cell_type": "markdown",
   "metadata": {},
   "source": [
    "Can you translate the speed limit odds ratio into plain English?"
   ]
  },
  {
   "cell_type": "code",
   "execution_count": null,
   "metadata": {},
   "outputs": [],
   "source": []
  },
  {
   "cell_type": "markdown",
   "metadata": {},
   "source": [
    "### Feature engineering: Speed limits\n",
    "\n",
    "Honestly, that's a pretty bad way to go about things. What's more fun is if we **translate speed limits into bins.**\n",
    "\n",
    "First, we'll use `pd.cut` to assign each speed limit a category."
   ]
  },
  {
   "cell_type": "code",
   "execution_count": null,
   "metadata": {},
   "outputs": [],
   "source": [
    "speed_bins = [-np.inf, 10, 20, 30, 40, 50, np.inf]\n",
    "merged['speed_bin'] = pd.cut(merged.SPEED_LIMIT_struck, bins=speed_bins)\n",
    "merged[['SPEED_LIMIT_striker', 'speed_bin']].head(10)"
   ]
  },
  {
   "cell_type": "markdown",
   "metadata": {},
   "source": [
    "Then we'll one-hot encode around 20-30mph speed limits."
   ]
  },
  {
   "cell_type": "code",
   "execution_count": null,
   "metadata": {},
   "outputs": [],
   "source": [
    "speed_dummies = pd.get_dummies(merged.speed_bin, \n",
    "                               prefix='speed').drop('speed_(20.0, 30.0]', axis=1)\n",
    "speed_dummies.head()"
   ]
  },
  {
   "cell_type": "markdown",
   "metadata": {},
   "source": [
    "## Running a regression\n",
    "\n",
    "I like this layout for creating `train_df`, it allows us to easily add dummies and do a little replacing/encoding when we're building binary features like for sex.\n",
    "\n",
    "> If the below gives you an error, it's because `SEX_CODE` is already a number. In that case, just remove `.replace({'M': 1, 'F': 0, 'U': np.nan })`."
   ]
  },
  {
   "cell_type": "code",
   "execution_count": null,
   "metadata": {},
   "outputs": [],
   "source": [
    "# Start with our normal features\n",
    "train_df = pd.DataFrame({\n",
    "    'weight_diff': merged.weight_diff,\n",
    "    'sex': merged.SEX_CODE,#.replace({'M': 1, 'F': 0, 'U': np.nan }),\n",
    "    'had_fatality': merged.had_fatality,\n",
    "})\n",
    "# Add the one-hot encoded features\n",
    "train_df = train_df.join(speed_dummies)\n",
    "train_df = train_df.join(surf_dummies)\n",
    "# Drop missing values\n",
    "train_df = train_df.dropna()\n",
    "train_df.head()"
   ]
  },
  {
   "cell_type": "code",
   "execution_count": null,
   "metadata": {},
   "outputs": [],
   "source": []
  },
  {
   "cell_type": "code",
   "execution_count": null,
   "metadata": {},
   "outputs": [],
   "source": []
  },
  {
   "cell_type": "markdown",
   "metadata": {},
   "source": [
    "Describe the impact of the different variables in simple language. What has the largest impact?"
   ]
  },
  {
   "cell_type": "code",
   "execution_count": null,
   "metadata": {},
   "outputs": [],
   "source": []
  },
  {
   "cell_type": "markdown",
   "metadata": {},
   "source": [
    "## Now you pick the features\n",
    "\n",
    "Up above you have examples of:\n",
    "\n",
    "* Creating features from numbers (speed limits)\n",
    "* Creating features from 0/1 (sex)\n",
    "* Creating features from binning numbers that are one-hot encoded (speed limit bins - `speed_bins`)\n",
    "* Creating features from categories that are one-hot encoded (surface - `surf_dummies`\n",
    "\n",
    "What else do you think matters? Try to plug in more features and see if you can get anything interesting.\n",
    "\n",
    "> * **Hot tip:** The funniest/most interesting thing feature you can add is also the dumbest. Ask me about it in #algorithms if you end up getting down here."
   ]
  },
  {
   "cell_type": "code",
   "execution_count": null,
   "metadata": {},
   "outputs": [],
   "source": []
  }
 ],
 "metadata": {
  "kernelspec": {
   "display_name": "Python 3",
   "language": "python",
   "name": "python3"
  },
  "language_info": {
   "codemirror_mode": {
    "name": "ipython",
    "version": 3
   },
   "file_extension": ".py",
   "mimetype": "text/x-python",
   "name": "python",
   "nbconvert_exporter": "python",
   "pygments_lexer": "ipython3",
   "version": "3.7.3"
  }
 },
 "nbformat": 4,
 "nbformat_minor": 2
}
